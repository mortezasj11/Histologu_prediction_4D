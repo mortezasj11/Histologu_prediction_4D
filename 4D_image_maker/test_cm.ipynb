{
 "cells": [
  {
   "cell_type": "code",
   "execution_count": 2,
   "id": "236c844a",
   "metadata": {},
   "outputs": [],
   "source": [
    "import matplotlib.pyplot as plt\n",
    "import numpy as np\n",
    "from sklearn.metrics import confusion_matrix\n",
    "import itertools\n",
    "import io\n",
    "import torch\n",
    "import cv2\n",
    "from cv2 import cvtColor,COLOR_RGBA2RGB"
   ]
  },
  {
   "cell_type": "code",
   "execution_count": 113,
   "id": "f36d7e62",
   "metadata": {},
   "outputs": [
    {
     "name": "stdout",
     "output_type": "stream",
     "text": [
      "(720, 720, 4)\n"
     ]
    },
    {
     "data": {
      "image/png": "[encoded data removed]",
      "text/plain": [
       "<Figure size 720x720 with 2 Axes>"
      ]
     },
     "metadata": {
      "needs_background": "light"
     },
     "output_type": "display_data"
    },
    {
     "name": "stdout",
     "output_type": "stream",
     "text": [
      "(720, 720, 3)\n"
     ]
    }
   ],
   "source": [
    "\n",
    "\n",
    "def plot_confusion_matrix(cm, class_names, normalize=True):\n",
    "    \"\"\"\n",
    "    Returns a matplotlib figure containing the plotted confusion matrix.\n",
    "    \n",
    "    Args:\n",
    "       cm (array, shape = [n, n]): a confusion matrix of integer classes\n",
    "       class_names (array, shape = [n]): String names of the integer classes\n",
    "    \"\"\"\n",
    "    # Normalize the confusion matrix.\n",
    "    if normalize:\n",
    "\n",
    "        cm = np.around(cm.astype('float') / cm.sum(axis=1)[:, np.newaxis], decimals=2)\n",
    "    \n",
    "    \n",
    "    figure = plt.figure(figsize=(10,10))\n",
    "    plt.imshow(cm, interpolation='nearest', cmap=plt.cm.Blues)\n",
    "    plt.title(\"Confusion matrix\")\n",
    "    plt.colorbar()\n",
    "    tick_marks = np.arange(len(class_names))\n",
    "    plt.xticks(tick_marks, class_names, rotation=45)\n",
    "    plt.yticks(tick_marks, class_names)\n",
    "    \n",
    "    \n",
    "    # Use white text if squares are dark; otherwise black.\n",
    "    threshold = cm.max() / 2.\n",
    "    \n",
    "    for i, j in itertools.product(range(cm.shape[0]), range(cm.shape[1])):\n",
    "        color = \"white\" if cm[i, j] > threshold else \"black\"\n",
    "        plt.text(j, i, cm[i, j], horizontalalignment=\"center\", color=color)\n",
    "        \n",
    "    plt.tight_layout(pad=3)\n",
    "    plt.ylabel('True label')\n",
    "    plt.xlabel('Predicted label')\n",
    "    return figure\n",
    "\n",
    "\n",
    "def plt2arr(fig, draw=True):\n",
    "    if draw:\n",
    "        fig.canvas.draw()\n",
    "    rgba_buf = fig.canvas.buffer_rgba()\n",
    "    (w,h) = fig.canvas.get_width_height()\n",
    "    rgba_arr = np.frombuffer(rgba_buf, dtype=np.uint8).reshape((h,w,4))\n",
    "    \n",
    "    return rgba_arr, torch.unsqueeze(torch.from_numpy(np.transpose(rgba_arr,(2,0,1))),0)\n",
    "\n",
    "if __name__=='__main__':\n",
    "    from sklearn.metrics import confusion_matrix\n",
    "    cm=confusion_matrix([0, 0, 1,1,2, 0], [0, 1,0,1, 2, 1])\n",
    "    figure = plot_confusion_matrix(cm, class_names=['Ad','Sq','O'],normalize=False)\n",
    "    np_im,_ = plt2arr(figure)\n",
    "    print(np_im.shape)\n",
    "    plt.imshow( torch.from_numpy(np_im[:,:,0:3]) )\n",
    "    plt.show()\n",
    "    \n",
    "    #rgbImage = cvtColor(np_im, COLOR_RGBA2RGB)\n",
    "    print(rgbImage.shape)\n",
    "    #plt.imshow(rgbImage)\n",
    "    #plt.show()"
   ]
  },
  {
   "cell_type": "code",
   "execution_count": 103,
   "id": "be86a9ea",
   "metadata": {},
   "outputs": [
    {
     "data": {
      "text/plain": [
       "array([[1, 1, 0],\n",
       "       [0, 1, 0],\n",
       "       [0, 0, 1]], dtype=int64)"
      ]
     },
     "execution_count": 103,
     "metadata": {},
     "output_type": "execute_result"
    }
   ],
   "source": [
    "cm"
   ]
  },
  {
   "cell_type": "code",
   "execution_count": 14,
   "id": "451102c4",
   "metadata": {},
   "outputs": [
    {
     "data": {
      "text/plain": [
       "0"
      ]
     },
     "execution_count": 14,
     "metadata": {},
     "output_type": "execute_result"
    }
   ],
   "source": [
    "np_im.min()"
   ]
  },
  {
   "cell_type": "code",
   "execution_count": 18,
   "id": "229c7222",
   "metadata": {},
   "outputs": [
    {
     "data": {
      "text/plain": [
       "array([[[1., 1., 1., 0.],\n",
       "        [1., 1., 1., 0.],\n",
       "        [1., 1., 1., 0.],\n",
       "        ...,\n",
       "        [1., 1., 1., 0.],\n",
       "        [1., 1., 1., 0.],\n",
       "        [1., 1., 1., 0.]],\n",
       "\n",
       "       [[1., 1., 1., 0.],\n",
       "        [1., 1., 1., 0.],\n",
       "        [1., 1., 1., 0.],\n",
       "        ...,\n",
       "        [1., 1., 1., 0.],\n",
       "        [1., 1., 1., 0.],\n",
       "        [1., 1., 1., 0.]],\n",
       "\n",
       "       [[1., 1., 1., 0.],\n",
       "        [1., 1., 1., 0.],\n",
       "        [1., 1., 1., 0.],\n",
       "        ...,\n",
       "        [1., 1., 1., 0.],\n",
       "        [1., 1., 1., 0.],\n",
       "        [1., 1., 1., 0.]],\n",
       "\n",
       "       ...,\n",
       "\n",
       "       [[1., 1., 1., 0.],\n",
       "        [1., 1., 1., 0.],\n",
       "        [1., 1., 1., 0.],\n",
       "        ...,\n",
       "        [1., 1., 1., 0.],\n",
       "        [1., 1., 1., 0.],\n",
       "        [1., 1., 1., 0.]],\n",
       "\n",
       "       [[1., 1., 1., 0.],\n",
       "        [1., 1., 1., 0.],\n",
       "        [1., 1., 1., 0.],\n",
       "        ...,\n",
       "        [1., 1., 1., 0.],\n",
       "        [1., 1., 1., 0.],\n",
       "        [1., 1., 1., 0.]],\n",
       "\n",
       "       [[1., 1., 1., 0.],\n",
       "        [1., 1., 1., 0.],\n",
       "        [1., 1., 1., 0.],\n",
       "        ...,\n",
       "        [1., 1., 1., 0.],\n",
       "        [1., 1., 1., 0.],\n",
       "        [1., 1., 1., 0.]]], dtype=float16)"
      ]
     },
     "execution_count": 18,
     "metadata": {},
     "output_type": "execute_result"
    }
   ],
   "source": [
    "np.float16(np_im)/255."
   ]
  },
  {
   "cell_type": "code",
   "execution_count": 49,
   "id": "2a95dff4",
   "metadata": {},
   "outputs": [
    {
     "data": {
      "text/plain": [
       "(720, 720)"
      ]
     },
     "execution_count": 49,
     "metadata": {},
     "output_type": "execute_result"
    }
   ],
   "source": [
    "Source = np.float16(np_im)/255.\n",
    "rgbImage[:,:,0] = ((1 - Source[:,:,3]) * np_im[:,:,0]) + (Source[:,:,3] * Source[:,:,0])\n",
    "rgbImage[:,:,1] = ((1 - Source[:,:,3]) * np_im[:,:,1]) + (Source[:,:,3] * Source[:,:,1])\n",
    "rgbImage[:,:,2] = ((1 - Source[:,:,3]) * np_im[:,:,2]) + (Source[:,:,3] * Source[:,:,2])\n",
    "\n",
    "Source[:,:,3].shape"
   ]
  },
  {
   "cell_type": "code",
   "execution_count": 36,
   "id": "8e929dd8",
   "metadata": {},
   "outputs": [
    {
     "data": {
      "text/plain": [
       "<matplotlib.image.AxesImage at 0x2a59d8f33d0>"
      ]
     },
     "execution_count": 36,
     "metadata": {},
     "output_type": "execute_result"
    },
    {
     "data": {
      "image/png": "[encoded data removed]",
      "text/plain": [
       "<Figure size 432x288 with 1 Axes>"
      ]
     },
     "metadata": {
      "needs_background": "light"
     },
     "output_type": "display_data"
    }
   ],
   "source": [
    "plt.imshow((Source[:,:,3]*255).astype(np.int8))"
   ]
  },
  {
   "cell_type": "code",
   "execution_count": null,
   "id": "3d236689",
   "metadata": {},
   "outputs": [],
   "source": [
    "Source => Target = (BGColor + Source) =\n",
    "Target.R = ((1 - Source.A) * BGColor.R) + (Source.A * Source.R)\n",
    "Target.G = ((1 - Source.A) * BGColor.G) + (Source.A * Source.G)\n",
    "Target.B = ((1 - Source.A) * BGColor.B) + (Source.A * Source.B)\n",
    "\n",
    "\n",
    "Source = np.float16(np_im)/255.\n",
    "rgbImage[:,:,0] = ((1 - Source[:,:,3]) * np_im[:,:,0]) + (Source[:,:,3] * Source[:,:,0])\n",
    "rgbImage[:,:,1] = ((1 - Source[:,:,3]) * np_im[:,:,1]) + (Source[:,:,3] * Source[:,:,1])\n",
    "rgbImage[:,:,2] = ((1 - Source[:,:,3]) * np_im[:,:,2]) + (Source[:,:,3] * Source[:,:,2])"
   ]
  },
  {
   "cell_type": "code",
   "execution_count": 50,
   "id": "2765c50c",
   "metadata": {},
   "outputs": [
    {
     "data": {
      "text/plain": [
       "0.0"
      ]
     },
     "execution_count": 50,
     "metadata": {},
     "output_type": "execute_result"
    }
   ],
   "source": [
    "Source[:,:,3].max()"
   ]
  },
  {
   "cell_type": "code",
   "execution_count": 58,
   "id": "443f599e",
   "metadata": {},
   "outputs": [
    {
     "data": {
      "text/plain": [
       "<matplotlib.image.AxesImage at 0x2a59c6e05b0>"
      ]
     },
     "execution_count": 58,
     "metadata": {},
     "output_type": "execute_result"
    },
    {
     "data": {
      "image/png": "[encoded data removed]",
      "text/plain": [
       "<Figure size 432x288 with 1 Axes>"
      ]
     },
     "metadata": {
      "needs_background": "light"
     },
     "output_type": "display_data"
    }
   ],
   "source": [
    "plt.imshow(np_im[:,:,0:3])"
   ]
  },
  {
   "cell_type": "code",
   "execution_count": 59,
   "id": "797a6268",
   "metadata": {},
   "outputs": [
    {
     "data": {
      "text/plain": [
       "<matplotlib.image.AxesImage at 0x2a598734f10>"
      ]
     },
     "execution_count": 59,
     "metadata": {},
     "output_type": "execute_result"
    },
    {
     "data": {
      "image/png": "[encoded data removed]",
      "text/plain": [
       "<Figure size 432x288 with 1 Axes>"
      ]
     },
     "metadata": {
      "needs_background": "light"
     },
     "output_type": "display_data"
    }
   ],
   "source": [
    "plt.imshow( torch.from_numpy(np_im[:,:,0:3]) )"
   ]
  },
  {
   "cell_type": "code",
   "execution_count": 73,
   "id": "e213b3e2",
   "metadata": {},
   "outputs": [
    {
     "data": {
      "image/png": "[encoded data removed]",
      "text/plain": [
       "<Figure size 720x720 with 2 Axes>"
      ]
     },
     "metadata": {
      "needs_background": "light"
     },
     "output_type": "display_data"
    }
   ],
   "source": [
    "from sklearn.metrics import confusion_matrix\n",
    "cm=confusion_matrix([1, 0, 2, 0], [1, 0, 2, 1])\n",
    "figure = plot_confusion_matrix(cm, class_names=['Ad','Sq','O'])\n",
    "#np_im,_ = plt2arr(figure)\n",
    "#print(np_im.shape)\n",
    "#plt.imshow( torch.from_numpy(np_im[:,:,0:3]) )\n",
    "#plt.show()\n"
   ]
  },
  {
   "cell_type": "code",
   "execution_count": 67,
   "id": "40b26693",
   "metadata": {},
   "outputs": [
    {
     "data": {
      "image/png": "[encoded data removed]",
      "text/plain": [
       "<Figure size 432x288 with 1 Axes>"
      ]
     },
     "metadata": {
      "needs_background": "light"
     },
     "output_type": "display_data"
    }
   ],
   "source": [
    "plt.imshow(np_im[:,:,0:3])\n",
    "plt.show()"
   ]
  },
  {
   "cell_type": "code",
   "execution_count": 68,
   "id": "0316649a",
   "metadata": {},
   "outputs": [
    {
     "data": {
      "image/png": "[encoded data removed]",
      "text/plain": [
       "<Figure size 432x288 with 1 Axes>"
      ]
     },
     "metadata": {
      "needs_background": "light"
     },
     "output_type": "display_data"
    }
   ],
   "source": [
    "plt.imshow( torch.from_numpy(np_im[:,:,0:3]) )\n",
    "plt.show()"
   ]
  },
  {
   "cell_type": "code",
   "execution_count": 74,
   "id": "9a3b5d10",
   "metadata": {},
   "outputs": [
    {
     "ename": "AttributeError",
     "evalue": "'Figure' object has no attribute 'shape'",
     "output_type": "error",
     "traceback": [
      "\u001b[1;31m---------------------------------------------------------------------------\u001b[0m",
      "\u001b[1;31mAttributeError\u001b[0m                            Traceback (most recent call last)",
      "\u001b[1;32mC:\\Users\\MSALEH~1\\ONEDRI~1.ORG\\DOCUME~1\\MOBAXT~1\\slash\\tmp/ipykernel_34520/2322653041.py\u001b[0m in \u001b[0;36m<module>\u001b[1;34m\u001b[0m\n\u001b[1;32m----> 1\u001b[1;33m \u001b[0mfigure\u001b[0m\u001b[1;33m.\u001b[0m\u001b[0mshape\u001b[0m\u001b[1;33m\u001b[0m\u001b[1;33m\u001b[0m\u001b[0m\n\u001b[0m",
      "\u001b[1;31mAttributeError\u001b[0m: 'Figure' object has no attribute 'shape'"
     ]
    }
   ],
   "source": [
    "figure.shape"
   ]
  },
  {
   "cell_type": "code",
   "execution_count": 75,
   "id": "98dcd75a",
   "metadata": {},
   "outputs": [
    {
     "data": {
      "text/plain": [
       "<Figure size 432x288 with 0 Axes>"
      ]
     },
     "metadata": {},
     "output_type": "display_data"
    }
   ],
   "source": [
    "plt.tight_layout()"
   ]
  },
  {
   "cell_type": "code",
   "execution_count": 89,
   "id": "c8a85867",
   "metadata": {},
   "outputs": [
    {
     "name": "stdout",
     "output_type": "stream",
     "text": [
      "KeysView(<matplotlib.cm._DeprecatedCmapDictWrapper object at 0x000002A591B69E50>)\n"
     ]
    }
   ],
   "source": [
    "print(plt.cm.cmap_d.keys())"
   ]
  },
  {
   "cell_type": "code",
   "execution_count": 106,
   "id": "9f7186dd",
   "metadata": {},
   "outputs": [
    {
     "data": {
      "text/plain": [
       "array([[1, 2, 0],\n",
       "       [1, 1, 0],\n",
       "       [0, 0, 1]], dtype=int64)"
      ]
     },
     "execution_count": 106,
     "metadata": {},
     "output_type": "execute_result"
    }
   ],
   "source": [
    "cm=confusion_matrix([0, 0, 1,1,2, 0], [0, 1,0,1, 2, 1])\n",
    "cm"
   ]
  },
  {
   "cell_type": "code",
   "execution_count": 123,
   "id": "16e933ba",
   "metadata": {},
   "outputs": [
    {
     "data": {
      "text/plain": [
       "0.06666666666666667"
      ]
     },
     "execution_count": 123,
     "metadata": {},
     "output_type": "execute_result"
    }
   ],
   "source": [
    "a = np.array([0,0.2,1])\n",
    "a[a==1]=0\n",
    "a.mean()"
   ]
  },
  {
   "cell_type": "code",
   "execution_count": 124,
   "id": "a4c79d1b",
   "metadata": {},
   "outputs": [],
   "source": [
    "a = np.array([True,0.2,False])\n",
    "a[a==1]=0"
   ]
  },
  {
   "cell_type": "code",
   "execution_count": 126,
   "id": "613967ce",
   "metadata": {},
   "outputs": [],
   "source": [
    "import pandas as pd"
   ]
  },
  {
   "cell_type": "code",
   "execution_count": 129,
   "id": "7fff7f05",
   "metadata": {},
   "outputs": [],
   "source": [
    "a = {'a':[2,3], 'b':[4,6]}\n",
    "c = pd.DataFrame(a)"
   ]
  },
  {
   "cell_type": "code",
   "execution_count": 130,
   "id": "71919987",
   "metadata": {},
   "outputs": [
    {
     "data": {
      "text/html": [
       "<div>\n",
       "<style scoped>\n",
       "    .dataframe tbody tr th:only-of-type {\n",
       "        vertical-align: middle;\n",
       "    }\n",
       "\n",
       "    .dataframe tbody tr th {\n",
       "        vertical-align: top;\n",
       "    }\n",
       "\n",
       "    .dataframe thead th {\n",
       "        text-align: right;\n",
       "    }\n",
       "</style>\n",
       "<table border=\"1\" class=\"dataframe\">\n",
       "  <thead>\n",
       "    <tr style=\"text-align: right;\">\n",
       "      <th></th>\n",
       "      <th>a</th>\n",
       "      <th>b</th>\n",
       "    </tr>\n",
       "  </thead>\n",
       "  <tbody>\n",
       "    <tr>\n",
       "      <th>0</th>\n",
       "      <td>2</td>\n",
       "      <td>4</td>\n",
       "    </tr>\n",
       "    <tr>\n",
       "      <th>1</th>\n",
       "      <td>3</td>\n",
       "      <td>6</td>\n",
       "    </tr>\n",
       "  </tbody>\n",
       "</table>\n",
       "</div>"
      ],
      "text/plain": [
       "   a  b\n",
       "0  2  4\n",
       "1  3  6"
      ]
     },
     "execution_count": 130,
     "metadata": {},
     "output_type": "execute_result"
    }
   ],
   "source": [
    "c"
   ]
  },
  {
   "cell_type": "code",
   "execution_count": 133,
   "id": "d991df5d",
   "metadata": {},
   "outputs": [
    {
     "data": {
      "text/plain": [
       "[0.2161624203821656, 0.3730095541401274, 0.410828025477707]"
      ]
     },
     "execution_count": 133,
     "metadata": {},
     "output_type": "execute_result"
    }
   ],
   "source": [
    "[      0.5*(319+224)/(713+319+224)    ,     0.5*(713+224)/(713+319+224)       ,     0.5*(713+319)/(713+319+224)]"
   ]
  },
  {
   "cell_type": "code",
   "execution_count": 134,
   "id": "06f2c2a8",
   "metadata": {},
   "outputs": [
    {
     "data": {
      "text/plain": [
       "[0.20833333333333334, 0.375, 0.4166666666666667]"
      ]
     },
     "execution_count": 134,
     "metadata": {},
     "output_type": "execute_result"
    }
   ],
   "source": [
    "[5/24, 9/24,10/24]"
   ]
  },
  {
   "cell_type": "code",
   "execution_count": 135,
   "id": "d1faaa81",
   "metadata": {},
   "outputs": [
    {
     "data": {
      "text/plain": [
       "[0.21400316455696203, 0.3738132911392405, 0.41218354430379744]"
      ]
     },
     "execution_count": 135,
     "metadata": {},
     "output_type": "execute_result"
    }
   ],
   "source": [
    "[     0.5*(319+222)/(723+319+222)    ,     0.5*(723+222)/(723+319+222)    ,    0.5*(723+319)/(723+319+222)     ]"
   ]
  },
  {
   "cell_type": "code",
   "execution_count": null,
   "id": "4e7cdc18",
   "metadata": {},
   "outputs": [],
   "source": []
  }
 ],
 "metadata": {
  "kernelspec": {
   "display_name": "Python 3 (ipykernel)",
   "language": "python",
   "name": "python3"
  },
  "language_info": {
   "codemirror_mode": {
    "name": "ipython",
    "version": 3
   },
   "file_extension": ".py",
   "mimetype": "text/x-python",
   "name": "python",
   "nbconvert_exporter": "python",
   "pygments_lexer": "ipython3",
   "version": "3.8.11"
  }
 },
 "nbformat": 4,
 "nbformat_minor": 5
}
