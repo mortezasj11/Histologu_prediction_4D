{
 "cells": [
  {
   "cell_type": "code",
   "execution_count": 1,
   "id": "5ce0b284",
   "metadata": {},
   "outputs": [],
   "source": [
    "import numpy as np\n",
    "import os\n",
    "#import matplotlib.pyplot as plt\n",
    "import nibabel as nib\n",
    "import skimage\n",
    "from skimage.transform import resize\n",
    "#new_image  = resize(rand(10,10), (224,224))\n"
   ]
  },
  {
   "cell_type": "code",
   "execution_count": 2,
   "id": "d7804883",
   "metadata": {},
   "outputs": [],
   "source": [
    "lung_path = 'E:/data/Resize_nature_wulab'\n",
    "#lung_path = '/Data/Resize_nature_wulab'\n",
    "\n",
    "#save_path  =  'E:/data/Histology/'\n",
    "save_path  =  'E:/data/Histology/nature_4d_2_2_2022'\n",
    "#save_path  =  'Data/Histology/nature_4d_2_2_2022'\n",
    "os.makedirs(save_path, exist_ok=True)\n",
    "\n",
    "def ct_100_150(img, min_v=-100, max_v=150):\n",
    "    img = np.clip(img, min_v, max_v)\n",
    "    img = (img-min_v)/(max_v-min_v)\n",
    "    img = img.astype(float)\n",
    "    return img\n",
    "\n",
    "def ct_1000_150(img, min_v=-1000, max_v=150):\n",
    "    img = np.clip(img, min_v, max_v)\n",
    "    img = (img-min_v)/(max_v-min_v)\n",
    "    img = img.astype(float)\n",
    "    return img"
   ]
  },
  {
   "cell_type": "code",
   "execution_count": 3,
   "id": "1a8604e8",
   "metadata": {},
   "outputs": [
    {
     "name": "stdout",
     "output_type": "stream",
     "text": [
      "1 .  Sandy1_R01-089_ct.nii.gz\n",
      "E:/data/Resize_nature_wulab\\Sandy1_R01-089_ct.nii.gz\n",
      "E:/data/Resize_nature_wulab\\Sandy1_R01-089_lung.nii.gz\n"
     ]
    }
   ],
   "source": [
    "ct_list = [i for i in os.listdir(lung_path) if i.endswith('ct.nii.gz')]\n",
    "bias = 4000\n",
    "for i,ct_name in enumerate(ct_list):\n",
    "    \n",
    "    print('{} .  {}'.format(i+1, ct_name))\n",
    "    whole_path_ct = os.path.join(lung_path, ct_name)\n",
    "    whole_path_seg = os.path.join(lung_path, ct_name[:-9]+'lung.nii.gz')\n",
    "    \n",
    "    print(whole_path_ct)\n",
    "    print(whole_path_seg)\n",
    "    \n",
    "    # load lung and seg \n",
    "    seg_h = nib.load(whole_path_seg)\n",
    "    seg = seg_h.get_fdata()\n",
    "    \n",
    "    ct_h = nib.load(whole_path_ct)\n",
    "    ct = ct_h.get_fdata()\n",
    "\n",
    "    \n",
    "    # 1st ct normalized -1000 150\n",
    "    ct_n = ct_1000_150(ct)\n",
    "    \n",
    "    ct_bias = ct + bias\n",
    "    ct_seg = ct_bias*seg\n",
    "    ct_seg = ct_seg - bias\n",
    "    \n",
    "\n",
    "    # 2nd lung*seg normalized -100 100\n",
    "    x,y,z = 160,160,160\n",
    "    \n",
    "    ct_seg_100_150 = ct_100_150( ct_seg )\n",
    "    ct_seg_100_150_resize = resize(ct_seg_100_150, (x,y,z), order=0, preserve_range=True)\n",
    "    \n",
    "    # 3rd lung*seg normalized -1000 150      \n",
    "    ct_seg_1000_150 = ct_1000_150( ct_seg )\n",
    "    ct_seg_1000_150_resize =  resize(ct_seg_1000_150, (x,y,z), order=0, preserve_range=True)\n",
    "    \n",
    "    \n",
    "    # Resizing  \n",
    "    \n",
    "    out_no_resize = np.zeros((x,y,z,3))\n",
    "    out_no_resize[:,:,:,0] = resize(ct_n, (x,y,z), order=0, preserve_range=True)\n",
    "    out_no_resize[:,:,:,1] = ct_seg_100_150_resize\n",
    "    out_no_resize[:,:,:,2] = ct_seg_1000_150_resize  \n",
    "\n",
    "    img_NIFTI = nib.Nifti1Image(out_no_resize, ct_h.affine )\n",
    "    img_NIFTI.to_filename(os.path.join(save_path,ct_name))\n",
    "    break\n",
    "    "
   ]
  },
  {
   "cell_type": "code",
   "execution_count": null,
   "id": "47feba6c",
   "metadata": {},
   "outputs": [],
   "source": [
    "os.path.join(save_path,ct_name)"
   ]
  },
  {
   "cell_type": "code",
   "execution_count": null,
   "id": "27e8844e",
   "metadata": {},
   "outputs": [],
   "source": [
    "out_no_resize.shape"
   ]
  },
  {
   "cell_type": "code",
   "execution_count": null,
   "id": "4a446b35",
   "metadata": {},
   "outputs": [],
   "source": [
    "ct_seg.min()"
   ]
  },
  {
   "cell_type": "code",
   "execution_count": null,
   "id": "03a3385d",
   "metadata": {},
   "outputs": [],
   "source": [
    "ct.min()"
   ]
  },
  {
   "cell_type": "code",
   "execution_count": null,
   "id": "91c26193",
   "metadata": {},
   "outputs": [],
   "source": [
    "seg.min()"
   ]
  },
  {
   "cell_type": "code",
   "execution_count": null,
   "id": "e545e4ff",
   "metadata": {},
   "outputs": [],
   "source": [
    "ct_bias = ct + bias"
   ]
  },
  {
   "cell_type": "code",
   "execution_count": null,
   "id": "53d41b8d",
   "metadata": {},
   "outputs": [],
   "source": [
    "ct_bias.min(),ct_bias.max()"
   ]
  },
  {
   "cell_type": "code",
   "execution_count": null,
   "id": "8b6943ec",
   "metadata": {},
   "outputs": [],
   "source": [
    "ct_seg = ct_bias*seg"
   ]
  },
  {
   "cell_type": "code",
   "execution_count": null,
   "id": "2fcf1376",
   "metadata": {},
   "outputs": [],
   "source": [
    "ct_seg.min(),ct_seg.max()"
   ]
  },
  {
   "cell_type": "code",
   "execution_count": null,
   "id": "622a7d94",
   "metadata": {},
   "outputs": [],
   "source": [
    "ct_seg = ct_seg - bias"
   ]
  },
  {
   "cell_type": "code",
   "execution_count": null,
   "id": "4d8dc849",
   "metadata": {},
   "outputs": [],
   "source": [
    "ct_seg.min(),ct_seg.max()"
   ]
  },
  {
   "cell_type": "code",
   "execution_count": null,
   "id": "07468897",
   "metadata": {},
   "outputs": [],
   "source": [
    "ct_seg_100_100 = ct_100_100(ct_seg)"
   ]
  },
  {
   "cell_type": "code",
   "execution_count": null,
   "id": "8a2d893f",
   "metadata": {},
   "outputs": [],
   "source": [
    "ct_seg.min(),ct_seg.max()"
   ]
  },
  {
   "cell_type": "code",
   "execution_count": null,
   "id": "820653f2",
   "metadata": {},
   "outputs": [],
   "source": [
    "my_img = np.array([-1000,-500, 500, 1000])\n",
    "print(my_img.min(), my_img.max(),my_img.dtype )\n",
    "\n",
    "def ct_100_100_v0(img):\n",
    "    img[img<-100] = -100\n",
    "    img[img>100] = 100\n",
    "    img = img.astype(np.int16)\n",
    "    return img\n",
    "\n",
    "your_img = ct_100_100_v0(my_img)\n",
    "print(my_img.min(), my_img.max(),my_img.dtype )"
   ]
  },
  {
   "cell_type": "code",
   "execution_count": null,
   "id": "d03d9587",
   "metadata": {},
   "outputs": [],
   "source": [
    "my_img = np.array([-1000,-500, 500, 1000])\n",
    "print(my_img.min(), my_img.max(),my_img.dtype )\n",
    "\n",
    "def ct_100_100_v1(img):\n",
    "    im = img\n",
    "    im[im<-100] = -100\n",
    "    im[im>100] = 100\n",
    "    im = im.astype(np.int16)\n",
    "    return im\n",
    "\n",
    "your_img = ct_100_100_v1(my_img)\n",
    "print(my_img.min(), my_img.max(),my_img.dtype )"
   ]
  },
  {
   "cell_type": "code",
   "execution_count": null,
   "id": "10845089",
   "metadata": {},
   "outputs": [],
   "source": [
    "my_img = np.array([-1000,-500, 500, 1000])\n",
    "print(my_img.min(), my_img.max(),my_img.dtype )\n",
    "\n",
    "def ct_100_100_v2(img):\n",
    "    img = img + 100\n",
    "    return img\n",
    "\n",
    "your_img = ct_100_100_v2(my_img)\n",
    "print(my_img.min(), my_img.max(),my_img.dtype )"
   ]
  },
  {
   "cell_type": "code",
   "execution_count": null,
   "id": "cf54cfe6",
   "metadata": {},
   "outputs": [],
   "source": [
    "a = np.array([-1000,-500, 500, 1000])\n",
    "b = a + 10\n",
    "print(id(a), id(b))"
   ]
  },
  {
   "cell_type": "code",
   "execution_count": null,
   "id": "a8902dc7",
   "metadata": {},
   "outputs": [],
   "source": [
    "def clip(v):\n",
    "    v[v<0]=0\n",
    "    v[v>100]=100\n",
    "    return v\n",
    "\n",
    "def add(v):\n",
    "    v = v + 100\n",
    "    return v\n",
    "\n",
    "def clip_2(v):\n",
    "    v = np.clip(v,0,100)\n",
    "    return v\n",
    "\n",
    "a = np.array([-1000,-500, 500, 1000])\n",
    "b = clip(a)\n",
    "print( id(a)==id(b))\n",
    "print('a: ', a)\n",
    "print('b: ', b)\n",
    "\n",
    "a = np.array([-1000,-500, 500, 1000])\n",
    "c = add(a)\n",
    "print(  id(a)==id(c) )\n",
    "print('c: ', c)\n",
    "\n",
    "a = np.array([-1000,-500, 500, 1000])\n",
    "e = clip_2(a)\n",
    "print(id(a)==id(e))\n",
    "print('e: ', e)\n"
   ]
  },
  {
   "cell_type": "code",
   "execution_count": null,
   "id": "e718064f",
   "metadata": {},
   "outputs": [],
   "source": [
    "a = np.array([-1000,-500, 500, 1000])\n",
    "\n",
    "def clip(v):\n",
    "    v[v<0]=0\n",
    "    return v\n",
    "\n",
    "b = clip(a)\n",
    "print( id(a)==id(b) )\n",
    "print(a)"
   ]
  },
  {
   "cell_type": "code",
   "execution_count": null,
   "id": "252ab09a",
   "metadata": {},
   "outputs": [],
   "source": [
    "def clip(v):\n",
    "    v[v<0]=0\n",
    "    return v\n",
    "\n",
    "a = np.array([-1000,-500, 500, 1000])\n",
    "b = clip(a)\n",
    "print( id(a)==id(b) )\n",
    "print(a)"
   ]
  },
  {
   "cell_type": "code",
   "execution_count": null,
   "id": "7074001f",
   "metadata": {},
   "outputs": [],
   "source": [
    "a"
   ]
  },
  {
   "cell_type": "code",
   "execution_count": null,
   "id": "6bef502f",
   "metadata": {},
   "outputs": [],
   "source": [
    "def clip_1(v):\n",
    "    v[v<0]=0\n",
    "    v[v>100]=100\n",
    "    return v\n",
    "\n",
    "a = np.array([-1000,-500, 500, 1000])\n",
    "b = clip_1(a)\n",
    "print('a==b ? ',id(a)==id(b))\n",
    "print('a: ', a)\n",
    "print('b: ', b)\n",
    "\n",
    "#############################################\n",
    "print('############################################')\n",
    "\n",
    "def clip_2(v):\n",
    "    v = np.clip(v,0,100) # v[v<0]=0, v[v>100]=100\n",
    "    return v\n",
    "\n",
    "a = np.array([-1000,-500, 500, 1000])\n",
    "c = clip_2(a)\n",
    "print('a==c ? ',id(a)==id(c))\n",
    "print('a: ', a)\n",
    "print('c: ', c)"
   ]
  },
  {
   "cell_type": "code",
   "execution_count": null,
   "id": "2787e851",
   "metadata": {},
   "outputs": [],
   "source": [
    "a = np.array([-1000,-500, 500, 1000])\n",
    "\n",
    "def add(v):\n",
    "    v = v + 10000\n",
    "    return v\n",
    "\n",
    "a_added = add(a)\n",
    "print('a==a_added ? ',id(a)==id(a_added))\n",
    "print('a: ', a)\n",
    "print('a_added: ', a_added)"
   ]
  },
  {
   "cell_type": "code",
   "execution_count": null,
   "id": "f0828a46",
   "metadata": {},
   "outputs": [],
   "source": [
    "a = np.array([-1000,-500, 500, 1000])\n",
    "\n",
    "def sajed(v):\n",
    "    v[:2] = [1,2]\n",
    "    return v\n",
    "\n",
    "a_added = sajed(a)\n",
    "print('a==a_added ? ',id(a)==id(a_added))\n",
    "print('a: ', a)\n",
    "print('a_added: ', a_added)"
   ]
  },
  {
   "cell_type": "code",
   "execution_count": 4,
   "id": "4efc94da",
   "metadata": {},
   "outputs": [
    {
     "data": {
      "text/plain": [
       "<nibabel.nifti1.Nifti1Image at 0x1f4355fa0a0>"
      ]
     },
     "execution_count": 4,
     "metadata": {},
     "output_type": "execute_result"
    }
   ],
   "source": [
    "ct_h."
   ]
  },
  {
   "cell_type": "code",
   "execution_count": 11,
   "id": "f03b6131",
   "metadata": {},
   "outputs": [
    {
     "ename": "AttributeError",
     "evalue": "can't set attribute",
     "output_type": "error",
     "traceback": [
      "\u001b[1;31m---------------------------------------------------------------------------\u001b[0m",
      "\u001b[1;31mAttributeError\u001b[0m                            Traceback (most recent call last)",
      "\u001b[1;32mC:\\Users\\MSALEH~1\\ONEDRI~1.ORG\\DOCUME~1\\MOBAXT~1\\slash\\tmp/ipykernel_54112/4036434149.py\u001b[0m in \u001b[0;36m<module>\u001b[1;34m\u001b[0m\n\u001b[1;32m----> 1\u001b[1;33m \u001b[0mct_h\u001b[0m\u001b[1;33m.\u001b[0m\u001b[0maffine\u001b[0m \u001b[1;33m=\u001b[0m \u001b[0mnp\u001b[0m\u001b[1;33m.\u001b[0m\u001b[0meye\u001b[0m\u001b[1;33m(\u001b[0m\u001b[1;36m4\u001b[0m\u001b[1;33m)\u001b[0m\u001b[1;33m\u001b[0m\u001b[1;33m\u001b[0m\u001b[0m\n\u001b[0m",
      "\u001b[1;31mAttributeError\u001b[0m: can't set attribute"
     ]
    }
   ],
   "source": [
    "ct_h.affine = np.eye(4)"
   ]
  },
  {
   "cell_type": "code",
   "execution_count": 9,
   "id": "1392b7e6",
   "metadata": {},
   "outputs": [
    {
     "data": {
      "text/plain": [
       "array([[1., 0., 0., 0.],\n",
       "       [0., 1., 0., 0.],\n",
       "       [0., 0., 1., 0.],\n",
       "       [0., 0., 0., 1.]])"
      ]
     },
     "execution_count": 9,
     "metadata": {},
     "output_type": "execute_result"
    }
   ],
   "source": []
  },
  {
   "cell_type": "code",
   "execution_count": 12,
   "id": "31b5b406",
   "metadata": {},
   "outputs": [],
   "source": [
    "save_path  =  'E:/data/Histology/nature_TESTTTTT'\n",
    "#save_path  =  'Data/Histology/nature_4d_2_2_2022'\n",
    "os.makedirs(save_path, exist_ok=True)"
   ]
  },
  {
   "cell_type": "code",
   "execution_count": 13,
   "id": "54158d98",
   "metadata": {},
   "outputs": [],
   "source": [
    "img_NIFTI = nib.Nifti1Image(out_no_resize, 2*ct_h.affine )\n",
    "img_NIFTI.to_filename(os.path.join(save_path,ct_name))"
   ]
  },
  {
   "cell_type": "code",
   "execution_count": 14,
   "id": "a5261234",
   "metadata": {},
   "outputs": [
    {
     "data": {
      "text/plain": [
       "'E:\\\\data\\\\Histology'"
      ]
     },
     "execution_count": 14,
     "metadata": {},
     "output_type": "execute_result"
    }
   ],
   "source": [
    "os.getcwd()"
   ]
  },
  {
   "cell_type": "code",
   "execution_count": null,
   "id": "ecdf6fdc",
   "metadata": {},
   "outputs": [],
   "source": []
  }
 ],
 "metadata": {
  "kernelspec": {
   "display_name": "Python 3 (ipykernel)",
   "language": "python",
   "name": "python3"
  },
  "language_info": {
   "codemirror_mode": {
    "name": "ipython",
    "version": 3
   },
   "file_extension": ".py",
   "mimetype": "text/x-python",
   "name": "python",
   "nbconvert_exporter": "python",
   "pygments_lexer": "ipython3",
   "version": "3.8.11"
  }
 },
 "nbformat": 4,
 "nbformat_minor": 5
}
