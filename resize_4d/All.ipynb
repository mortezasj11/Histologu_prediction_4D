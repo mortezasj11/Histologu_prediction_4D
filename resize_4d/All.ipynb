{
 "cells": [
  {
   "cell_type": "code",
   "execution_count": 1,
   "id": "503759ca",
   "metadata": {},
   "outputs": [],
   "source": [
    "import numpy as np\n",
    "import os\n",
    "import matplotlib.pyplot as plt\n",
    "import nibabel as nib\n",
    "import pandas as pd\n",
    "from shutil import copy  \n",
    "np.random.seed(12345)    "
   ]
  },
  {
   "cell_type": "code",
   "execution_count": 2,
   "id": "d87c79fd",
   "metadata": {},
   "outputs": [
    {
     "data": {
      "text/html": [
       "<div>\n",
       "<style scoped>\n",
       "    .dataframe tbody tr th:only-of-type {\n",
       "        vertical-align: middle;\n",
       "    }\n",
       "\n",
       "    .dataframe tbody tr th {\n",
       "        vertical-align: top;\n",
       "    }\n",
       "\n",
       "    .dataframe thead th {\n",
       "        text-align: right;\n",
       "    }\n",
       "</style>\n",
       "<table border=\"1\" class=\"dataframe\">\n",
       "  <thead>\n",
       "    <tr style=\"text-align: right;\">\n",
       "      <th></th>\n",
       "      <th>Unnamed: 0</th>\n",
       "      <th>ID</th>\n",
       "      <th>Dataset</th>\n",
       "      <th>Histology</th>\n",
       "      <th>Data Availability</th>\n",
       "      <th>Cohort</th>\n",
       "      <th>Age</th>\n",
       "      <th>TobaccoUse</th>\n",
       "      <th>Gender</th>\n",
       "      <th>Unnamed: 9</th>\n",
       "    </tr>\n",
       "  </thead>\n",
       "  <tbody>\n",
       "    <tr>\n",
       "      <th>0</th>\n",
       "      <td>0</td>\n",
       "      <td>Hugo_LUNG1-001</td>\n",
       "      <td>NSCLC Radiomics</td>\n",
       "      <td>large cell</td>\n",
       "      <td>Yes</td>\n",
       "      <td>NaN</td>\n",
       "      <td>78.751500</td>\n",
       "      <td>NaN</td>\n",
       "      <td>Male</td>\n",
       "      <td>NaN</td>\n",
       "    </tr>\n",
       "    <tr>\n",
       "      <th>1</th>\n",
       "      <td>1</td>\n",
       "      <td>Hugo_LUNG1-002</td>\n",
       "      <td>NSCLC Radiomics</td>\n",
       "      <td>squamous cell carcinoma</td>\n",
       "      <td>Yes</td>\n",
       "      <td>NaN</td>\n",
       "      <td>83.800100</td>\n",
       "      <td>NaN</td>\n",
       "      <td>Male</td>\n",
       "      <td>NaN</td>\n",
       "    </tr>\n",
       "    <tr>\n",
       "      <th>2</th>\n",
       "      <td>2</td>\n",
       "      <td>Hugo_LUNG1-003</td>\n",
       "      <td>NSCLC Radiomics</td>\n",
       "      <td>large cell</td>\n",
       "      <td>Yes</td>\n",
       "      <td>NaN</td>\n",
       "      <td>68.180700</td>\n",
       "      <td>NaN</td>\n",
       "      <td>Male</td>\n",
       "      <td>NaN</td>\n",
       "    </tr>\n",
       "    <tr>\n",
       "      <th>3</th>\n",
       "      <td>3</td>\n",
       "      <td>Hugo_LUNG1-004</td>\n",
       "      <td>NSCLC Radiomics</td>\n",
       "      <td>squamous cell carcinoma</td>\n",
       "      <td>Yes</td>\n",
       "      <td>NaN</td>\n",
       "      <td>70.880200</td>\n",
       "      <td>NaN</td>\n",
       "      <td>Male</td>\n",
       "      <td>NaN</td>\n",
       "    </tr>\n",
       "    <tr>\n",
       "      <th>4</th>\n",
       "      <td>4</td>\n",
       "      <td>Hugo_LUNG1-005</td>\n",
       "      <td>NSCLC Radiomics</td>\n",
       "      <td>squamous cell carcinoma</td>\n",
       "      <td>Yes</td>\n",
       "      <td>NaN</td>\n",
       "      <td>80.481900</td>\n",
       "      <td>NaN</td>\n",
       "      <td>Male</td>\n",
       "      <td>NaN</td>\n",
       "    </tr>\n",
       "    <tr>\n",
       "      <th>...</th>\n",
       "      <td>...</td>\n",
       "      <td>...</td>\n",
       "      <td>...</td>\n",
       "      <td>...</td>\n",
       "      <td>...</td>\n",
       "      <td>...</td>\n",
       "      <td>...</td>\n",
       "      <td>...</td>\n",
       "      <td>...</td>\n",
       "      <td>...</td>\n",
       "    </tr>\n",
       "    <tr>\n",
       "      <th>1912</th>\n",
       "      <td>1956</td>\n",
       "      <td>Patient_1294</td>\n",
       "      <td>Driver-negative</td>\n",
       "      <td>Adenocarcinoma</td>\n",
       "      <td>Yes</td>\n",
       "      <td>test</td>\n",
       "      <td>52.043836</td>\n",
       "      <td>Former</td>\n",
       "      <td>Female</td>\n",
       "      <td>NaN</td>\n",
       "    </tr>\n",
       "    <tr>\n",
       "      <th>1913</th>\n",
       "      <td>1957</td>\n",
       "      <td>Patient_1295</td>\n",
       "      <td>Driver-positive</td>\n",
       "      <td>Squamous cell carcinoma</td>\n",
       "      <td>Yes</td>\n",
       "      <td>independent</td>\n",
       "      <td>68.123288</td>\n",
       "      <td>Former</td>\n",
       "      <td>Male</td>\n",
       "      <td>NaN</td>\n",
       "    </tr>\n",
       "    <tr>\n",
       "      <th>1914</th>\n",
       "      <td>1958</td>\n",
       "      <td>Patient_1296</td>\n",
       "      <td>Driver-negative</td>\n",
       "      <td>Adenocarcinoma</td>\n",
       "      <td>Yes</td>\n",
       "      <td>test</td>\n",
       "      <td>72.583562</td>\n",
       "      <td>Current</td>\n",
       "      <td>Female</td>\n",
       "      <td>NaN</td>\n",
       "    </tr>\n",
       "    <tr>\n",
       "      <th>1915</th>\n",
       "      <td>1959</td>\n",
       "      <td>Patient_1297</td>\n",
       "      <td>Driver-negative</td>\n",
       "      <td>Adenocarcinoma</td>\n",
       "      <td>Yes</td>\n",
       "      <td>test</td>\n",
       "      <td>64.602740</td>\n",
       "      <td>Never (&lt;100 lifetime cigarettes)</td>\n",
       "      <td>Female</td>\n",
       "      <td>NaN</td>\n",
       "    </tr>\n",
       "    <tr>\n",
       "      <th>1916</th>\n",
       "      <td>1960</td>\n",
       "      <td>Patient_1298</td>\n",
       "      <td>Driver-positive</td>\n",
       "      <td>Adenocarcinoma</td>\n",
       "      <td>Yes</td>\n",
       "      <td>independent</td>\n",
       "      <td>74.734247</td>\n",
       "      <td>Never (&lt;100 lifetime cigarettes)</td>\n",
       "      <td>Male</td>\n",
       "      <td>NaN</td>\n",
       "    </tr>\n",
       "  </tbody>\n",
       "</table>\n",
       "<p>1917 rows × 10 columns</p>\n",
       "</div>"
      ],
      "text/plain": [
       "      Unnamed: 0              ID          Dataset                Histology  \\\n",
       "0              0  Hugo_LUNG1-001  NSCLC Radiomics               large cell   \n",
       "1              1  Hugo_LUNG1-002  NSCLC Radiomics  squamous cell carcinoma   \n",
       "2              2  Hugo_LUNG1-003  NSCLC Radiomics               large cell   \n",
       "3              3  Hugo_LUNG1-004  NSCLC Radiomics  squamous cell carcinoma   \n",
       "4              4  Hugo_LUNG1-005  NSCLC Radiomics  squamous cell carcinoma   \n",
       "...          ...             ...              ...                      ...   \n",
       "1912        1956    Patient_1294  Driver-negative           Adenocarcinoma   \n",
       "1913        1957    Patient_1295  Driver-positive  Squamous cell carcinoma   \n",
       "1914        1958    Patient_1296  Driver-negative           Adenocarcinoma   \n",
       "1915        1959    Patient_1297  Driver-negative           Adenocarcinoma   \n",
       "1916        1960    Patient_1298  Driver-positive           Adenocarcinoma   \n",
       "\n",
       "     Data Availability       Cohort        Age  \\\n",
       "0                  Yes          NaN  78.751500   \n",
       "1                  Yes          NaN  83.800100   \n",
       "2                  Yes          NaN  68.180700   \n",
       "3                  Yes          NaN  70.880200   \n",
       "4                  Yes          NaN  80.481900   \n",
       "...                ...          ...        ...   \n",
       "1912               Yes         test  52.043836   \n",
       "1913               Yes  independent  68.123288   \n",
       "1914               Yes         test  72.583562   \n",
       "1915               Yes         test  64.602740   \n",
       "1916               Yes  independent  74.734247   \n",
       "\n",
       "                            TobaccoUse  Gender  Unnamed: 9  \n",
       "0                                  NaN    Male         NaN  \n",
       "1                                  NaN    Male         NaN  \n",
       "2                                  NaN    Male         NaN  \n",
       "3                                  NaN    Male         NaN  \n",
       "4                                  NaN    Male         NaN  \n",
       "...                                ...     ...         ...  \n",
       "1912                            Former  Female         NaN  \n",
       "1913                            Former    Male         NaN  \n",
       "1914                           Current  Female         NaN  \n",
       "1915  Never (<100 lifetime cigarettes)  Female         NaN  \n",
       "1916  Never (<100 lifetime cigarettes)    Male         NaN  \n",
       "\n",
       "[1917 rows x 10 columns]"
      ]
     },
     "execution_count": 2,
     "metadata": {},
     "output_type": "execute_result"
    }
   ],
   "source": [
    "df = pd.read_csv('both_added_2_18_2022.csv')\n",
    "df"
   ]
  },
  {
   "cell_type": "code",
   "execution_count": 3,
   "id": "8a6f1be1",
   "metadata": {},
   "outputs": [
    {
     "data": {
      "text/plain": [
       "{'Current', 'Former', 'Never (<100 lifetime cigarettes)', 'Nonsmoker', nan}"
      ]
     },
     "execution_count": 3,
     "metadata": {},
     "output_type": "execute_result"
    }
   ],
   "source": [
    "set(df[\"TobaccoUse\"].tolist())"
   ]
  },
  {
   "cell_type": "code",
   "execution_count": 4,
   "id": "c78d7d89",
   "metadata": {},
   "outputs": [
    {
     "data": {
      "text/plain": [
       "{'Female', 'Male', nan}"
      ]
     },
     "execution_count": 4,
     "metadata": {},
     "output_type": "execute_result"
    }
   ],
   "source": [
    "set(df[\"Gender\"].tolist())"
   ]
  },
  {
   "cell_type": "code",
   "execution_count": 5,
   "id": "bcc83ec5",
   "metadata": {},
   "outputs": [
    {
     "name": "stdout",
     "output_type": "stream",
     "text": [
      "1284\n"
     ]
    }
   ],
   "source": [
    "df[\"ID\"].tolist()\n",
    "count = 0\n",
    "IDs = []\n",
    "for i in df[\"ID\"].tolist():\n",
    "    Age = df[df[\"ID\"]==i]['Age']   #TobaccoUse    Gender\n",
    "    TobaccoUse = df[df[\"ID\"]==i]['TobaccoUse']\n",
    "    Gender = df[df[\"ID\"]==i]['Gender']\n",
    "    #print(Age )\n",
    "    #print(TobaccoUse)\n",
    "    #print(Gender)\n",
    "    if not pd.isnull(TobaccoUse.item()) and not pd.isnull(Gender.item()) and not pd.isnull(Age.item()): #pd.isnull  TobaccoUse.item()=='NaN' or\n",
    "        #print(count)\n",
    "        IDs.append(i)\n",
    "        count += 1\n",
    "        \n",
    "print(len(IDs))"
   ]
  },
  {
   "cell_type": "code",
   "execution_count": 21,
   "id": "66d9a1f8",
   "metadata": {},
   "outputs": [
    {
     "name": "stdout",
     "output_type": "stream",
     "text": [
      "1000 284\n"
     ]
    }
   ],
   "source": [
    "# shuffling\n",
    "IDs = np.array(IDs)\n",
    "indices_A = np.arange(len(IDs))\n",
    "np.random.shuffle(indices_A)\n",
    "IDs = IDs[indices_A]\n",
    "\n",
    "# train, val\n",
    "n_train = 1000\n",
    "n_val = 284\n",
    "\n",
    "IDs_train = IDs[:n_train]\n",
    "IDs_val = IDs[n_train:]\n",
    "\n",
    "print(len(IDs_train), len(IDs_val))"
   ]
  },
  {
   "cell_type": "code",
   "execution_count": 22,
   "id": "718682e8",
   "metadata": {},
   "outputs": [
    {
     "name": "stdout",
     "output_type": "stream",
     "text": [
      "65.408339726 10.294647007845224\n",
      "5.719869022868807e-16 1.0\n"
     ]
    }
   ],
   "source": [
    "age_array = []\n",
    "for i, id in enumerate(IDs_train):\n",
    "    Age = df[df[\"ID\"]==id]['Age'].item()  #TobaccoUse    Gender\n",
    "    age_array.append(Age)\n",
    "\n",
    "age_array = np.array(age_array)\n",
    "\n",
    "age_mean = np.mean(age_array)\n",
    "age_std = np.std(age_array)\n",
    "print(age_mean, age_std)\n",
    "age_array = (age_array -age_mean)/age_std\n",
    "print(age_array.mean(), age_array.std())"
   ]
  },
  {
   "cell_type": "code",
   "execution_count": 33,
   "id": "8719589e",
   "metadata": {},
   "outputs": [
    {
     "name": "stdout",
     "output_type": "stream",
     "text": [
      "0.043748119282224794 0.9522283462009385\n",
      "-3.3609817334807444 3.2316185857220003\n"
     ]
    }
   ],
   "source": [
    "age_array = []\n",
    "for i, id in enumerate(IDs_val):\n",
    "    Age = df[df[\"ID\"]==id]['Age']   #TobaccoUse    Gender\n",
    "    Age = (Age.item()-age_mean)/age_std\n",
    "    age_array.append(Age)\n",
    "\n",
    "age_array = np.array(age_array)\n",
    "\n",
    "np.mean(age_array)\n",
    "np.std(age_array)\n",
    "\n",
    "print(np.mean(age_array), np.std(age_array))\n",
    "print(age_array.min(), age_array.max())"
   ]
  },
  {
   "cell_type": "code",
   "execution_count": 25,
   "id": "cd325125",
   "metadata": {},
   "outputs": [],
   "source": [
    "\n",
    "train_folder = 'E:/data/Histology/Nature_Gemini_4d_Feb2022/TrainValTest/NatureGeminiAll_ageN'\n",
    "val_folder =   'E:/data/Histology/Nature_Gemini_4d_Feb2022/TrainValTest/NatureGeminiAll_ageN'\n",
    "test_folder =  'E:/data/Histology/Nature_Gemini_4d_Feb2022/TrainValTest/NatureGeminiAll_ageN'\n",
    "\n",
    "'''\n",
    "train_folder = 'C:/Users/MSalehjahromi/Desktop/NatureGeminiAll'\n",
    "val_folder =   'C:/Users/MSalehjahromi/Desktop/NatureGeminiAll'\n",
    "test_folder =  'C:/Users/MSalehjahromi/Desktop/NatureGeminiAll'\n",
    "'''\n",
    "\n",
    "os.makedirs(train_folder, exist_ok=True)\n",
    "os.makedirs(val_folder, exist_ok=True)\n",
    "os.makedirs(test_folder, exist_ok=True)\n",
    "\n",
    "\n",
    "nature_train = ['TCGA LUAD/LUSC','NSCLC Radiomics','NSCLC Radiomics-Genomics']\n",
    "nature_val = ['Stanford','NSCLC Radiogenomics']\n",
    "nature_test = [] #['NSCLC Radiogenomics'] #Sandys\n",
    "\n",
    "df = pd.read_csv('both_added_2_18_2022.csv')\n",
    "df_train = pd.DataFrame(columns=['ID', 'Histology','Histology012', 'Age', 'gender_cat', 'gender', 'TobaccoUse', 'smoking' ])\n",
    "df_val   = pd.DataFrame(columns=['ID', 'Histology','Histology012', 'Age', 'gender_cat', 'gender', 'TobaccoUse', 'smoking' ])\n",
    "df_test  = pd.DataFrame(columns=['ID', 'Histology','Histology012', 'Age', 'gender_cat', 'gender', 'TobaccoUse', 'smoking' ])\n",
    "\n",
    "D_hist = {   'adenocarcinoma'                   : 1 ,\n",
    "             'Adenocarcinoma'                   : 1 ,\n",
    "             'Squamous cell carcinoma'          : 0 ,\n",
    "             'squamous cell carcinoma'          : 0 ,\n",
    "             'Sarcomatoid carcinoma'            : 1 ,\n",
    "             'Adenosquamous carcinoma'          : 1 ,\n",
    "             'Large cell carcinoma'             : 1 ,\n",
    "             'Non-small cell carcinoma NOS'     : 1 ,\n",
    "             'Sarcomatoid carcinoma'            : 1 ,\n",
    "             'large cell'                       : 1 ,\n",
    "             'nos'                              : 1 }\n",
    "\n",
    "D_gender = {   'Female'                         : 0 ,\n",
    "               'Male'                           : 1 }\n",
    "\n",
    "D_smoking = {'Current'                          : 0 ,\n",
    "             'Former'                           : 0 ,\n",
    "             'Never (<100 lifetime cigarettes)' : 1 , \n",
    "             'Nonsmoker'                        : 1 }\n",
    "\n",
    "\n",
    "for i, id in enumerate(IDs_train):\n",
    "    Hist = df[df[\"ID\"]==id]['Histology']\n",
    "    Age = df[df[\"ID\"]==id]['Age']   #TobaccoUse    Gender\n",
    "    Age = (Age.item()-age_mean)/age_std\n",
    "    TobaccoUse = df[df[\"ID\"]==id]['TobaccoUse']\n",
    "    Gender = df[df[\"ID\"]==id]['Gender']\n",
    "    if id.startswith('Patient'):\n",
    "        idd = 'CT_'+id[8:]\n",
    "    else:\n",
    "        idd = id\n",
    "    #'ID', 'Histology','Histology012', 'Age', 'gender_cat', 'gender', 'TobaccoUse', 'smoking' \n",
    "    series_id = [pd.Series([idd, Hist.item(), D_hist[Hist.item()], Age, Gender.item(), D_gender[Gender.item()], TobaccoUse.item(), D_smoking[TobaccoUse.item()]], index = df_train.columns[0:8])]\n",
    "    df_train = df_train.append(series_id, ignore_index=True)\n",
    "\n",
    "    \n",
    "for i, id in enumerate(IDs_val):\n",
    "    Hist = df[df[\"ID\"]==id]['Histology']\n",
    "    Age = df[df[\"ID\"]==id]['Age']   #TobaccoUse    Gender\n",
    "    Age = (Age.item()-age_mean)/age_std\n",
    "    TobaccoUse = df[df[\"ID\"]==id]['TobaccoUse']\n",
    "    Gender = df[df[\"ID\"]==id]['Gender']\n",
    "    if id.startswith('Patient'):\n",
    "        idd = 'CT_'+id[8:]\n",
    "    else:\n",
    "        idd = id\n",
    "    #'ID', 'Histology','Histology012', 'Age', 'gender_cat', 'gender', 'TobaccoUse', 'smoking' \n",
    "    series_id = [pd.Series([idd, Hist.item(), D_hist[Hist.item()], Age, Gender.item(), D_gender[Gender.item()], TobaccoUse.item(), D_smoking[TobaccoUse.item()]], index = df_val.columns[0:8])]\n",
    "    df_val = df_val.append(series_id, ignore_index=True)\n",
    "\n",
    "df_train.to_csv(os.path.join(train_folder, 'train.csv'))\n",
    "df_val.to_csv(os.path.join(val_folder, 'val.csv'))\n",
    "#df_test.to_csv(os.path.join(test_folder, 'test.csv'))"
   ]
  },
  {
   "cell_type": "code",
   "execution_count": 31,
   "id": "30034674",
   "metadata": {},
   "outputs": [
    {
     "name": "stdout",
     "output_type": "stream",
     "text": [
      "1086 198 1284\n",
      "838 162 1000\n",
      "248 36 284\n"
     ]
    }
   ],
   "source": [
    "Gemini_l = 0\n",
    "Nature_l = 0\n",
    "for i, id in enumerate(IDs):\n",
    "    if id.startswith(\"Patient\"):\n",
    "        Gemini_l += 1\n",
    "    elif id.startswith(\"Sand\"):\n",
    "        Nature_l += 1\n",
    "\n",
    "print(Gemini_l,Nature_l, Gemini_l+Nature_l)\n",
    "\n",
    "Gemini_l = 0\n",
    "Nature_l = 0\n",
    "for i, id in enumerate(IDs_train):\n",
    "    if id.startswith(\"Patient\"):\n",
    "        Gemini_l += 1\n",
    "    elif id.startswith(\"Sand\"):\n",
    "        Nature_l += 1\n",
    "\n",
    "print(Gemini_l,Nature_l, Gemini_l+Nature_l)\n",
    "\n",
    "Gemini_l = 0\n",
    "Nature_l = 0\n",
    "for i, id in enumerate(IDs_val):\n",
    "    if id.startswith(\"Patient\"):\n",
    "        Gemini_l += 1\n",
    "    elif id.startswith(\"Sand\"):\n",
    "        Nature_l += 1\n",
    "\n",
    "print(Gemini_l,Nature_l, Gemini_l+Nature_l)"
   ]
  },
  {
   "cell_type": "code",
   "execution_count": 26,
   "id": "bae1feef",
   "metadata": {},
   "outputs": [
    {
     "data": {
      "text/html": [
       "<div>\n",
       "<style scoped>\n",
       "    .dataframe tbody tr th:only-of-type {\n",
       "        vertical-align: middle;\n",
       "    }\n",
       "\n",
       "    .dataframe tbody tr th {\n",
       "        vertical-align: top;\n",
       "    }\n",
       "\n",
       "    .dataframe thead th {\n",
       "        text-align: right;\n",
       "    }\n",
       "</style>\n",
       "<table border=\"1\" class=\"dataframe\">\n",
       "  <thead>\n",
       "    <tr style=\"text-align: right;\">\n",
       "      <th></th>\n",
       "      <th>ID</th>\n",
       "      <th>Histology</th>\n",
       "      <th>Histology012</th>\n",
       "      <th>Age</th>\n",
       "      <th>gender_cat</th>\n",
       "      <th>gender</th>\n",
       "      <th>TobaccoUse</th>\n",
       "      <th>smoking</th>\n",
       "    </tr>\n",
       "  </thead>\n",
       "  <tbody>\n",
       "    <tr>\n",
       "      <th>0</th>\n",
       "      <td>Sandy1_R01-030</td>\n",
       "      <td>adenocarcinoma</td>\n",
       "      <td>1</td>\n",
       "      <td>2.000230</td>\n",
       "      <td>Male</td>\n",
       "      <td>1</td>\n",
       "      <td>Former</td>\n",
       "      <td>0</td>\n",
       "    </tr>\n",
       "    <tr>\n",
       "      <th>1</th>\n",
       "      <td>Sandy1_R01-108</td>\n",
       "      <td>squamous cell carcinoma</td>\n",
       "      <td>0</td>\n",
       "      <td>1.125989</td>\n",
       "      <td>Male</td>\n",
       "      <td>1</td>\n",
       "      <td>Former</td>\n",
       "      <td>0</td>\n",
       "    </tr>\n",
       "    <tr>\n",
       "      <th>2</th>\n",
       "      <td>CT_0750</td>\n",
       "      <td>Adenocarcinoma</td>\n",
       "      <td>1</td>\n",
       "      <td>1.383338</td>\n",
       "      <td>Male</td>\n",
       "      <td>1</td>\n",
       "      <td>Former</td>\n",
       "      <td>0</td>\n",
       "    </tr>\n",
       "    <tr>\n",
       "      <th>3</th>\n",
       "      <td>CT_0202</td>\n",
       "      <td>Squamous cell carcinoma</td>\n",
       "      <td>0</td>\n",
       "      <td>0.093666</td>\n",
       "      <td>Male</td>\n",
       "      <td>1</td>\n",
       "      <td>Former</td>\n",
       "      <td>0</td>\n",
       "    </tr>\n",
       "    <tr>\n",
       "      <th>4</th>\n",
       "      <td>CT_1232</td>\n",
       "      <td>Non-small cell carcinoma NOS</td>\n",
       "      <td>1</td>\n",
       "      <td>0.899245</td>\n",
       "      <td>Male</td>\n",
       "      <td>1</td>\n",
       "      <td>Never (&lt;100 lifetime cigarettes)</td>\n",
       "      <td>1</td>\n",
       "    </tr>\n",
       "    <tr>\n",
       "      <th>...</th>\n",
       "      <td>...</td>\n",
       "      <td>...</td>\n",
       "      <td>...</td>\n",
       "      <td>...</td>\n",
       "      <td>...</td>\n",
       "      <td>...</td>\n",
       "      <td>...</td>\n",
       "      <td>...</td>\n",
       "    </tr>\n",
       "    <tr>\n",
       "      <th>995</th>\n",
       "      <td>CT_0616</td>\n",
       "      <td>Adenocarcinoma</td>\n",
       "      <td>1</td>\n",
       "      <td>1.503895</td>\n",
       "      <td>Male</td>\n",
       "      <td>1</td>\n",
       "      <td>Former</td>\n",
       "      <td>0</td>\n",
       "    </tr>\n",
       "    <tr>\n",
       "      <th>996</th>\n",
       "      <td>CT_1076</td>\n",
       "      <td>Adenocarcinoma</td>\n",
       "      <td>1</td>\n",
       "      <td>0.504307</td>\n",
       "      <td>Male</td>\n",
       "      <td>1</td>\n",
       "      <td>Current</td>\n",
       "      <td>0</td>\n",
       "    </tr>\n",
       "    <tr>\n",
       "      <th>997</th>\n",
       "      <td>Sandy2_AMC-032</td>\n",
       "      <td>adenocarcinoma</td>\n",
       "      <td>1</td>\n",
       "      <td>-1.302457</td>\n",
       "      <td>Female</td>\n",
       "      <td>0</td>\n",
       "      <td>Nonsmoker</td>\n",
       "      <td>1</td>\n",
       "    </tr>\n",
       "    <tr>\n",
       "      <th>998</th>\n",
       "      <td>CT_0822</td>\n",
       "      <td>Squamous cell carcinoma</td>\n",
       "      <td>0</td>\n",
       "      <td>1.090594</td>\n",
       "      <td>Male</td>\n",
       "      <td>1</td>\n",
       "      <td>Former</td>\n",
       "      <td>0</td>\n",
       "    </tr>\n",
       "    <tr>\n",
       "      <th>999</th>\n",
       "      <td>CT_0380</td>\n",
       "      <td>Adenocarcinoma</td>\n",
       "      <td>1</td>\n",
       "      <td>1.648671</td>\n",
       "      <td>Male</td>\n",
       "      <td>1</td>\n",
       "      <td>Current</td>\n",
       "      <td>0</td>\n",
       "    </tr>\n",
       "  </tbody>\n",
       "</table>\n",
       "<p>1000 rows × 8 columns</p>\n",
       "</div>"
      ],
      "text/plain": [
       "                 ID                     Histology Histology012       Age  \\\n",
       "0    Sandy1_R01-030                adenocarcinoma            1  2.000230   \n",
       "1    Sandy1_R01-108       squamous cell carcinoma            0  1.125989   \n",
       "2           CT_0750                Adenocarcinoma            1  1.383338   \n",
       "3           CT_0202       Squamous cell carcinoma            0  0.093666   \n",
       "4           CT_1232  Non-small cell carcinoma NOS            1  0.899245   \n",
       "..              ...                           ...          ...       ...   \n",
       "995         CT_0616                Adenocarcinoma            1  1.503895   \n",
       "996         CT_1076                Adenocarcinoma            1  0.504307   \n",
       "997  Sandy2_AMC-032                adenocarcinoma            1 -1.302457   \n",
       "998         CT_0822       Squamous cell carcinoma            0  1.090594   \n",
       "999         CT_0380                Adenocarcinoma            1  1.648671   \n",
       "\n",
       "    gender_cat gender                        TobaccoUse smoking  \n",
       "0         Male      1                            Former       0  \n",
       "1         Male      1                            Former       0  \n",
       "2         Male      1                            Former       0  \n",
       "3         Male      1                            Former       0  \n",
       "4         Male      1  Never (<100 lifetime cigarettes)       1  \n",
       "..         ...    ...                               ...     ...  \n",
       "995       Male      1                            Former       0  \n",
       "996       Male      1                           Current       0  \n",
       "997     Female      0                         Nonsmoker       1  \n",
       "998       Male      1                            Former       0  \n",
       "999       Male      1                           Current       0  \n",
       "\n",
       "[1000 rows x 8 columns]"
      ]
     },
     "execution_count": 26,
     "metadata": {},
     "output_type": "execute_result"
    }
   ],
   "source": [
    "df_train"
   ]
  },
  {
   "cell_type": "code",
   "execution_count": null,
   "id": "0f8c0a55",
   "metadata": {},
   "outputs": [],
   "source": [
    "print('##### TRAINING ######')\n",
    "print(\"'''''''''''''''''''''\")\n",
    "print('Squamous    : ',df_train[df_train['Histology012']==0].shape[0])\n",
    "print('Adeno : ',df_train[df_train['Histology012']==1].shape[0])\n",
    "print('other    : ',df_train[df_train['Histology012']==2].shape[0])\n",
    "print()\n",
    "print()\n",
    "print('##### Validation ######')\n",
    "print(\"'''''''''''''''''''''\")\n",
    "print('Squamous    : ',df_val[df_val['Histology012']==0].shape[0])\n",
    "print('Adeno : ',df_val[df_val['Histology012']==1].shape[0])\n",
    "print('other    : ',df_val[df_val['Histology012']==2].shape[0])\n",
    "print()\n",
    "print()\n",
    "print('##### Test ######')\n",
    "print(\"'''''''''''''''''''''\")\n",
    "print('Squamous    : ',df_test[df_test['Histology012']==0].shape[0])\n",
    "print('Adeno : ',df_test[df_test['Histology012']==1].shape[0])\n",
    "print('other    : ',df_test[df_test['Histology012']==2].shape[0])"
   ]
  },
  {
   "cell_type": "code",
   "execution_count": null,
   "id": "995118c8",
   "metadata": {},
   "outputs": [],
   "source": [
    "print('##### TRAINING ######')\n",
    "print(\"'''''''''''''''''''''\")\n",
    "print('Female    : ',df_train[df_train['gender']==0].shape[0])\n",
    "print('Male : ',df_train[df_train['gender']==1].shape[0])\n",
    "print('other    : ',df_train[df_train['gender']==2].shape[0])\n",
    "print()\n",
    "print()\n",
    "print('##### Validation ######')\n",
    "print(\"'''''''''''''''''''''\")\n",
    "print('Female    : ',df_val[df_val['gender']==0].shape[0])\n",
    "print('Male : ',df_val[df_val['gender']==1].shape[0])\n",
    "print('other    : ',df_val[df_val['gender']==2].shape[0])\n",
    "print()\n",
    "print()\n",
    "print('##### Test ######')\n",
    "print(\"'''''''''''''''''''''\")\n",
    "print('Female    : ',df_test[df_test['gender']==0].shape[0])\n",
    "print('Male : ',df_test[df_test['gender']==1].shape[0])\n",
    "print('other    : ',df_test[df_test['gender']==2].shape[0])"
   ]
  },
  {
   "cell_type": "code",
   "execution_count": null,
   "id": "9dff561c",
   "metadata": {},
   "outputs": [],
   "source": [
    "print('##### TRAINING ######')\n",
    "print(\"'''''''''''''''''''''\")\n",
    "print('Current,Former   : ',df_train[df_train['smoking']==0].shape[0])\n",
    "print('Nonsmoker : ',df_train[df_train['smoking']==1].shape[0])\n",
    "print('other    : ',df_train[df_train['smoking']==2].shape[0])\n",
    "print()\n",
    "print()\n",
    "print('##### Validation ######')\n",
    "print(\"'''''''''''''''''''''\")\n",
    "print('Current,Former   : ',df_val[df_val['smoking']==0].shape[0])\n",
    "print('Nonsmoker : ',df_val[df_val['smoking']==1].shape[0])\n",
    "print('other    : ',df_val[df_val['smoking']==2].shape[0])\n",
    "print()\n",
    "print()\n",
    "print('##### Test ######')\n",
    "print(\"'''''''''''''''''''''\")\n",
    "print('Current,Former   : ',df_test[df_test['smoking']==0].shape[0])\n",
    "print('Nonsmoker : ',df_test[df_test['smoking']==1].shape[0])\n",
    "print('other    : ',df_test[df_test['smoking']==2].shape[0])"
   ]
  },
  {
   "cell_type": "code",
   "execution_count": null,
   "id": "5adef571",
   "metadata": {},
   "outputs": [],
   "source": [
    "os.path.join(train_folder, 'train.csv')"
   ]
  },
  {
   "cell_type": "code",
   "execution_count": null,
   "id": "b98da4ae",
   "metadata": {},
   "outputs": [],
   "source": [
    "plt.plot([1,2,3],[1,2,3],'*')\n",
    "plt.grid()"
   ]
  },
  {
   "cell_type": "code",
   "execution_count": null,
   "id": "eb2c420e",
   "metadata": {},
   "outputs": [],
   "source": [
    "a = Noneu\n",
    "if a:\n",
    "    print('i')"
   ]
  },
  {
   "cell_type": "code",
   "execution_count": null,
   "id": "635b3bf3",
   "metadata": {},
   "outputs": [],
   "source": [
    "np.log10(1e5)"
   ]
  },
  {
   "cell_type": "code",
   "execution_count": 36,
   "id": "5a148d27",
   "metadata": {},
   "outputs": [],
   "source": [
    "a = [1]\n",
    "b= [2,3]\n",
    "a.append(b)"
   ]
  },
  {
   "cell_type": "code",
   "execution_count": 37,
   "id": "54da6c91",
   "metadata": {},
   "outputs": [
    {
     "data": {
      "text/plain": [
       "[1, [2, 3]]"
      ]
     },
     "execution_count": 37,
     "metadata": {},
     "output_type": "execute_result"
    }
   ],
   "source": [
    "a"
   ]
  },
  {
   "cell_type": "code",
   "execution_count": 39,
   "id": "0b0c8df2",
   "metadata": {},
   "outputs": [],
   "source": [
    "a = [1]\n",
    "b= [2,3]\n",
    "for i in b:\n",
    "    a.append(i)"
   ]
  },
  {
   "cell_type": "code",
   "execution_count": 40,
   "id": "4b2357b2",
   "metadata": {},
   "outputs": [
    {
     "data": {
      "text/plain": [
       "[1, 2, 3]"
      ]
     },
     "execution_count": 40,
     "metadata": {},
     "output_type": "execute_result"
    }
   ],
   "source": [
    "a"
   ]
  },
  {
   "cell_type": "code",
   "execution_count": 41,
   "id": "c54a8c82",
   "metadata": {},
   "outputs": [
    {
     "ename": "SyntaxError",
     "evalue": "invalid syntax (tmp/ipykernel_8872/2645578089.py, line 1)",
     "output_type": "error",
     "traceback": [
      "\u001b[1;36m  File \u001b[1;32m\"C:\\Users\\MSALEH~1\\ONEDRI~1.ORG\\DOCUME~1\\MOBAXT~1\\slash\\tmp/ipykernel_8872/2645578089.py\"\u001b[1;36m, line \u001b[1;32m1\u001b[0m\n\u001b[1;33m    [i+3 for i in b if i==2 else i+4]\u001b[0m\n\u001b[1;37m                            ^\u001b[0m\n\u001b[1;31mSyntaxError\u001b[0m\u001b[1;31m:\u001b[0m invalid syntax\n"
     ]
    }
   ],
   "source": [
    "[i+3 for i in b if i==2 else i+4]"
   ]
  },
  {
   "cell_type": "code",
   "execution_count": 42,
   "id": "28f2440d",
   "metadata": {},
   "outputs": [
    {
     "data": {
      "text/plain": [
       "['0001_Input_3D_0000.nii.gz',\n",
       " '0001_Post_Input_3D_0000.nii.gz',\n",
       " 'CT_0011_0000.nii.gz',\n",
       " 'CT_224693_0000.nii',\n",
       " 'Decathlon_lung_001_ct_0000.nii.gz',\n",
       " 'Hugo_LUNG1-001_ct_0000.nii.gz',\n",
       " 'NSCLC_Hugo_89_pt_1_ct_0000.nii.gz',\n",
       " 'Sandy1_R01-001_ct_0000.nii.gz',\n",
       " 'Sandy2_AMC-002_ct_0000.nii.gz',\n",
       " 'TCGA_LUAD_TCGA-17-Z011_ct_0000.nii.gz']"
      ]
     },
     "execution_count": 42,
     "metadata": {},
     "output_type": "execute_result"
    }
   ],
   "source": [
    "path = 'U:/Mori/Task501_MultiOrgan/imagesTs'\n",
    "os.listdir(path)"
   ]
  },
  {
   "cell_type": "code",
   "execution_count": 74,
   "id": "94f8135e",
   "metadata": {},
   "outputs": [],
   "source": [
    "\n",
    "from collections import OrderedDict\n",
    "json_dict = OrderedDict()"
   ]
  },
  {
   "cell_type": "code",
   "execution_count": 80,
   "id": "2a360be8",
   "metadata": {},
   "outputs": [],
   "source": [
    "json_dict['training'] = [{'image': \"./imagesTr/%s.nii.gz\" % i[:-12],\n",
    "                              \"label\": \"./labelsTr/%s.nii.gz\" % i[:-12]}\n",
    "                               for i in os.listdir(path) if i.endswith('.gz')]"
   ]
  },
  {
   "cell_type": "code",
   "execution_count": 81,
   "id": "8dc152a1",
   "metadata": {},
   "outputs": [],
   "source": [
    "json_dict_training_nii = [{'image': \"./imagesTr/%s.nii\" % i[:-9],\n",
    "                            \"label\": \"./labelsTr/%s.nii\" % i[:-9]}\n",
    "                            for i in os.listdir(path) if i.endswith('.nii')]"
   ]
  },
  {
   "cell_type": "code",
   "execution_count": 69,
   "id": "c725c57c",
   "metadata": {},
   "outputs": [
    {
     "data": {
      "text/plain": [
       "{'image': './imagesTr/0001_Input_3D.nii.gz',\n",
       " 'label': './labelsTr/0001_Input_3D.nii.gz'}"
      ]
     },
     "execution_count": 69,
     "metadata": {},
     "output_type": "execute_result"
    }
   ],
   "source": [
    "json_dict['training'][0]"
   ]
  },
  {
   "cell_type": "code",
   "execution_count": 70,
   "id": "e4851c9a",
   "metadata": {},
   "outputs": [
    {
     "data": {
      "text/plain": [
       "[{'image': './imagesTr/CT_224693.nii', 'label': './labelsTr/CT_224693.nii.gz'}]"
      ]
     },
     "execution_count": 70,
     "metadata": {},
     "output_type": "execute_result"
    }
   ],
   "source": [
    "a"
   ]
  },
  {
   "cell_type": "code",
   "execution_count": 57,
   "id": "6f8caf66",
   "metadata": {},
   "outputs": [
    {
     "data": {
      "text/plain": [
       "{'image': './imagesTr/CT_224693.nii.gz',\n",
       " 'label': './labelsTr/CT_224693.nii.gz'}"
      ]
     },
     "execution_count": 57,
     "metadata": {},
     "output_type": "execute_result"
    }
   ],
   "source": [
    "a[0]"
   ]
  },
  {
   "cell_type": "code",
   "execution_count": 58,
   "id": "4078a7f4",
   "metadata": {},
   "outputs": [],
   "source": [
    "json_dict['training'].append(a)"
   ]
  },
  {
   "cell_type": "code",
   "execution_count": 82,
   "id": "d212dfa6",
   "metadata": {},
   "outputs": [],
   "source": [
    "for i in json_dict_training_nii:\n",
    "    json_dict['training'].append(i)"
   ]
  },
  {
   "cell_type": "code",
   "execution_count": 83,
   "id": "547f6d55",
   "metadata": {},
   "outputs": [
    {
     "data": {
      "text/plain": [
       "[{'image': './imagesTr/0001_Input_3D.nii.gz',\n",
       "  'label': './labelsTr/0001_Input_3D.nii.gz'},\n",
       " {'image': './imagesTr/0001_Post_Input_3D.nii.gz',\n",
       "  'label': './labelsTr/0001_Post_Input_3D.nii.gz'},\n",
       " {'image': './imagesTr/CT_0011.nii.gz', 'label': './labelsTr/CT_0011.nii.gz'},\n",
       " {'image': './imagesTr/Decathlon_lung_001_ct.nii.gz',\n",
       "  'label': './labelsTr/Decathlon_lung_001_ct.nii.gz'},\n",
       " {'image': './imagesTr/Hugo_LUNG1-001_ct.nii.gz',\n",
       "  'label': './labelsTr/Hugo_LUNG1-001_ct.nii.gz'},\n",
       " {'image': './imagesTr/NSCLC_Hugo_89_pt_1_ct.nii.gz',\n",
       "  'label': './labelsTr/NSCLC_Hugo_89_pt_1_ct.nii.gz'},\n",
       " {'image': './imagesTr/Sandy1_R01-001_ct.nii.gz',\n",
       "  'label': './labelsTr/Sandy1_R01-001_ct.nii.gz'},\n",
       " {'image': './imagesTr/Sandy2_AMC-002_ct.nii.gz',\n",
       "  'label': './labelsTr/Sandy2_AMC-002_ct.nii.gz'},\n",
       " {'image': './imagesTr/TCGA_LUAD_TCGA-17-Z011_ct.nii.gz',\n",
       "  'label': './labelsTr/TCGA_LUAD_TCGA-17-Z011_ct.nii.gz'},\n",
       " {'image': './imagesTr/CT_224693.nii', 'label': './labelsTr/CT_224693.nii'}]"
      ]
     },
     "execution_count": 83,
     "metadata": {},
     "output_type": "execute_result"
    }
   ],
   "source": [
    "json_dict['training']"
   ]
  },
  {
   "cell_type": "code",
   "execution_count": 73,
   "id": "c80fc335",
   "metadata": {},
   "outputs": [
    {
     "data": {
      "text/plain": [
       "{'image': './imagesTr/CT_224693.nii', 'label': './labelsTr/CT_224693.nii.gz'}"
      ]
     },
     "execution_count": 73,
     "metadata": {},
     "output_type": "execute_result"
    }
   ],
   "source": [
    "i"
   ]
  },
  {
   "cell_type": "code",
   "execution_count": 84,
   "id": "7de6425f",
   "metadata": {},
   "outputs": [],
   "source": [
    "json_dict['test'] = [\"./imagesTs/%s.nii.gz\" % i[:-12] for i in os.listdir(path) if i.endswith('.gz')]\n",
    "json_dict_test_nii = [\"./imagesTs/%s.nii\" % i[:-9] for i in os.listdir(path) if i.endswith('.nii')]\n",
    "for i in json_dict_test_nii:\n",
    "    json_dict['test'].append(i)"
   ]
  },
  {
   "cell_type": "code",
   "execution_count": 85,
   "id": "3aa0e803",
   "metadata": {},
   "outputs": [
    {
     "data": {
      "text/plain": [
       "['./imagesTs/0001_Input_3D.nii.gz',\n",
       " './imagesTs/0001_Post_Input_3D.nii.gz',\n",
       " './imagesTs/CT_0011.nii.gz',\n",
       " './imagesTs/Decathlon_lung_001_ct.nii.gz',\n",
       " './imagesTs/Hugo_LUNG1-001_ct.nii.gz',\n",
       " './imagesTs/NSCLC_Hugo_89_pt_1_ct.nii.gz',\n",
       " './imagesTs/Sandy1_R01-001_ct.nii.gz',\n",
       " './imagesTs/Sandy2_AMC-002_ct.nii.gz',\n",
       " './imagesTs/TCGA_LUAD_TCGA-17-Z011_ct.nii.gz',\n",
       " './imagesTs/CT_224693.nii']"
      ]
     },
     "execution_count": 85,
     "metadata": {},
     "output_type": "execute_result"
    }
   ],
   "source": [
    "json_dict['test']"
   ]
  },
  {
   "cell_type": "code",
   "execution_count": 86,
   "id": "c21fc1aa",
   "metadata": {},
   "outputs": [
    {
     "data": {
      "text/plain": [
       "'E:\\\\data\\\\Histology\\\\Nature_Gemini_4d_Feb2022'"
      ]
     },
     "execution_count": 86,
     "metadata": {},
     "output_type": "execute_result"
    }
   ],
   "source": [
    "os.getcwd()"
   ]
  },
  {
   "cell_type": "code",
   "execution_count": 96,
   "id": "60471c07",
   "metadata": {},
   "outputs": [
    {
     "name": "stdout",
     "output_type": "stream",
     "text": [
      "E:/data/TCIA/CT_PET_Segs\\AMC-004-1919102521447413\\CT.nii\n",
      "E:/data/TCIA/CT_PET_Segs\\AMC-006-1529945160097891\\CT.nii\n",
      "E:/data/TCIA/CT_PET_Segs\\AMC-010-6343011139620289\\CT.nii\n",
      "E:/data/TCIA/CT_PET_Segs\\AMC-011-2525335627255871\\CT.nii\n",
      "E:/data/TCIA/CT_PET_Segs\\AMC-013-1004610344524232\\CT.nii\n",
      "E:/data/TCIA/CT_PET_Segs\\AMC-014-2270990546541356\\CT.nii\n",
      "E:/data/TCIA/CT_PET_Segs\\AMC-015-9557494951655727\\CT.nii\n",
      "E:/data/TCIA/CT_PET_Segs\\AMC-017-2088960115508162\\CT.nii\n",
      "E:/data/TCIA/CT_PET_Segs\\AMC-020-2770155866932989\\CT.nii\n",
      "E:/data/TCIA/CT_PET_Segs\\AMC-021-3500166790930934\\CT.nii\n",
      "E:/data/TCIA/CT_PET_Segs\\AMC-023-3079787936364114\\CT.nii\n",
      "E:/data/TCIA/CT_PET_Segs\\AMC-025-2605058705129812\\CT.nii\n",
      "E:/data/TCIA/CT_PET_Segs\\AMC-026-2427994104521680\\CT.nii\n",
      "E:/data/TCIA/CT_PET_Segs\\AMC-033-2895338545517030\\CT.nii\n",
      "E:/data/TCIA/CT_PET_Segs\\AMC-035-2986195202342460\\CT.nii\n",
      "E:/data/TCIA/CT_PET_Segs\\AMC-036-3286842444049692\\CT.nii\n",
      "E:/data/TCIA/CT_PET_Segs\\AMC-037-8615479119108327\\CT.nii\n",
      "E:/data/TCIA/CT_PET_Segs\\AMC-040-2744294755036287\\CT.nii\n",
      "E:/data/TCIA/CT_PET_Segs\\AMC-043-1049374661761905\\CT.nii\n",
      "E:/data/TCIA/CT_PET_Segs\\AMC-046-2681519433412682\\CT.nii\n",
      "E:/data/TCIA/CT_PET_Segs\\AMC-049-2513566791327884\\CT.nii\n",
      "E:/data/TCIA/CT_PET_Segs\\R01-001-2494200498938883\\CT.nii\n",
      "E:/data/TCIA/CT_PET_Segs\\R01-002-1869984787588146\\CT.nii\n",
      "E:/data/TCIA/CT_PET_Segs\\R01-003-1123095578096988\\CT.nii\n",
      "E:/data/TCIA/CT_PET_Segs\\R01-004-3054971019538389\\CT.nii\n",
      "E:/data/TCIA/CT_PET_Segs\\R01-005-7912958354736087\\CT.nii\n",
      "E:/data/TCIA/CT_PET_Segs\\R01-006-2279332894699867\\CT.nii\n",
      "E:/data/TCIA/CT_PET_Segs\\R01-007-4308077723512070\\CT.nii\n",
      "E:/data/TCIA/CT_PET_Segs\\R01-008-2473431975520424\\CT.nii\n",
      "E:/data/TCIA/CT_PET_Segs\\R01-010-2530478370100164\\CT.nii\n",
      "E:/data/TCIA/CT_PET_Segs\\R01-012-6103734529360280\\CT.nii\n",
      "E:/data/TCIA/CT_PET_Segs\\R01-013-2668656978485549\\CT.nii\n",
      "E:/data/TCIA/CT_PET_Segs\\R01-014-1422126261664745\\CT.nii\n",
      "E:/data/TCIA/CT_PET_Segs\\R01-015-9672253680830180\\CT.nii\n",
      "E:/data/TCIA/CT_PET_Segs\\R01-016-1570366116448717\\CT.nii\n",
      "E:/data/TCIA/CT_PET_Segs\\R01-018-2858261776413626\\CT.nii\n",
      "E:/data/TCIA/CT_PET_Segs\\R01-019-7651388310361499\\CT.nii\n",
      "E:/data/TCIA/CT_PET_Segs\\R01-020-1219104502300944\\CT.nii\n",
      "E:/data/TCIA/CT_PET_Segs\\R01-021-1323663771118325\\CT.nii\n",
      "E:/data/TCIA/CT_PET_Segs\\R01-022-1792083186662452\\CT.nii\n",
      "E:/data/TCIA/CT_PET_Segs\\R01-023-3402298013935357\\CT.nii\n",
      "E:/data/TCIA/CT_PET_Segs\\R01-024-1481287744096611\\CT.nii\n",
      "E:/data/TCIA/CT_PET_Segs\\R01-025-6381262941511995\\CT.nii\n",
      "E:/data/TCIA/CT_PET_Segs\\R01-026-2615512370924122\\CT.nii\n",
      "E:/data/TCIA/CT_PET_Segs\\R01-027-1136746790379369\\CT.nii\n",
      "E:/data/TCIA/CT_PET_Segs\\R01-028-1321046470779398\\CT.nii\n",
      "E:/data/TCIA/CT_PET_Segs\\R01-029-2478422206085432\\CT.nii\n",
      "E:/data/TCIA/CT_PET_Segs\\R01-030-5176327312940376\\CT.nii\n",
      "E:/data/TCIA/CT_PET_Segs\\R01-031-4022289309169224\\CT.nii\n",
      "E:/data/TCIA/CT_PET_Segs\\R01-032-4685874248120735\\CT.nii\n",
      "E:/data/TCIA/CT_PET_Segs\\R01-033-1733196329472886\\CT.nii\n",
      "E:/data/TCIA/CT_PET_Segs\\R01-034-3294857838662400\\CT.nii\n",
      "E:/data/TCIA/CT_PET_Segs\\R01-035-5771768106753464\\CT.nii\n",
      "E:/data/TCIA/CT_PET_Segs\\R01-036-3294443437403300\\CT.nii\n",
      "E:/data/TCIA/CT_PET_Segs\\R01-037-1561083001638258\\CT.nii\n",
      "E:/data/TCIA/CT_PET_Segs\\R01-038-7812087253974388\\CT.nii\n",
      "E:/data/TCIA/CT_PET_Segs\\R01-039-6241323111340599\\CT.nii\n",
      "E:/data/TCIA/CT_PET_Segs\\R01-040-3193774801019977\\CT.nii\n",
      "E:/data/TCIA/CT_PET_Segs\\R01-041-2892734290520294\\CT.nii\n",
      "E:/data/TCIA/CT_PET_Segs\\R01-043-1625680185940812\\CT.nii\n",
      "E:/data/TCIA/CT_PET_Segs\\R01-044-4067988106128626\\CT.nii\n",
      "E:/data/TCIA/CT_PET_Segs\\R01-045-3116184563338244\\CT.nii\n",
      "E:/data/TCIA/CT_PET_Segs\\R01-046-4389608125170071\\CT.nii\n",
      "E:/data/TCIA/CT_PET_Segs\\R01-047-4812602716817104\\CT.nii\n",
      "E:/data/TCIA/CT_PET_Segs\\R01-048-3011575320905681\\CT.nii\n",
      "E:/data/TCIA/CT_PET_Segs\\R01-049-1183335139011020\\CT.nii\n",
      "E:/data/TCIA/CT_PET_Segs\\R01-050-1104991631879413\\CT.nii\n",
      "E:/data/TCIA/CT_PET_Segs\\R01-051-3311462944770479\\CT.nii\n",
      "E:/data/TCIA/CT_PET_Segs\\R01-053-2182209803590972\\CT.nii\n",
      "E:/data/TCIA/CT_PET_Segs\\R01-054-9082752658328290\\CT.nii\n",
      "E:/data/TCIA/CT_PET_Segs\\R01-055-2753384228366663\\CT.nii\n",
      "E:/data/TCIA/CT_PET_Segs\\R01-056-2863351864078037\\CT.nii\n",
      "E:/data/TCIA/CT_PET_Segs\\R01-057-3110149444339758\\CT.nii\n",
      "E:/data/TCIA/CT_PET_Segs\\R01-058-3086893974920273\\CT.nii\n",
      "E:/data/TCIA/CT_PET_Segs\\R01-059-3748805058726721\\CT.nii\n",
      "E:/data/TCIA/CT_PET_Segs\\R01-062-1583020219478238\\CT.nii\n",
      "E:/data/TCIA/CT_PET_Segs\\R01-063-8714469378051328\\CT.nii\n",
      "E:/data/TCIA/CT_PET_Segs\\R01-064-2142846800818859\\CT.nii\n",
      "E:/data/TCIA/CT_PET_Segs\\R01-065-3126192282432514\\CT.nii\n",
      "E:/data/TCIA/CT_PET_Segs\\R01-066-1488278016399684\\CT.nii\n",
      "E:/data/TCIA/CT_PET_Segs\\R01-067-2348267989584203\\CT.nii\n",
      "E:/data/TCIA/CT_PET_Segs\\R01-068-2047056238915111\\CT.nii\n",
      "E:/data/TCIA/CT_PET_Segs\\R01-069-2476427118816237\\CT.nii\n",
      "E:/data/TCIA/CT_PET_Segs\\R01-070-2599474878862909\\CT.nii\n",
      "E:/data/TCIA/CT_PET_Segs\\R01-071-1795352926757840\\CT.nii\n",
      "E:/data/TCIA/CT_PET_Segs\\R01-072-1284382525772150\\CT.nii\n",
      "E:/data/TCIA/CT_PET_Segs\\R01-073-1178551702779775\\CT.nii\n",
      "E:/data/TCIA/CT_PET_Segs\\R01-075-1865056956193354\\CT.nii\n",
      "E:/data/TCIA/CT_PET_Segs\\R01-078-1220543264055443\\CT.nii\n",
      "E:/data/TCIA/CT_PET_Segs\\R01-082-2801578155491220\\CT.nii\n",
      "E:/data/TCIA/CT_PET_Segs\\R01-083-2243041454982186\\CT.nii\n",
      "E:/data/TCIA/CT_PET_Segs\\R01-084-2770628111818964\\CT.nii\n",
      "E:/data/TCIA/CT_PET_Segs\\R01-085-2632732723868013\\CT.nii\n",
      "E:/data/TCIA/CT_PET_Segs\\R01-086-2970570360130342\\CT.nii\n",
      "E:/data/TCIA/CT_PET_Segs\\R01-087-2475159241683034\\CT.nii\n",
      "E:/data/TCIA/CT_PET_Segs\\R01-088-1000276825235255\\CT.nii\n",
      "E:/data/TCIA/CT_PET_Segs\\R01-090-1015634309588454\\CT.nii\n",
      "E:/data/TCIA/CT_PET_Segs\\R01-092-8283146260634318\\CT.nii\n",
      "E:/data/TCIA/CT_PET_Segs\\R01-093-6181090280513097\\CT.nii\n",
      "E:/data/TCIA/CT_PET_Segs\\R01-095-4907468859818317\\CT.nii\n",
      "E:/data/TCIA/CT_PET_Segs\\R01-096-2765774464064516\\CT.nii\n",
      "E:/data/TCIA/CT_PET_Segs\\R01-099-2341780579680094\\CT.nii\n",
      "E:/data/TCIA/CT_PET_Segs\\R01-102-1570527224833352\\CT.nii\n",
      "E:/data/TCIA/CT_PET_Segs\\R01-103-4277896168281898\\CT.nii\n",
      "E:/data/TCIA/CT_PET_Segs\\R01-104-2992028700016635\\CT.nii\n",
      "E:/data/TCIA/CT_PET_Segs\\R01-105-1953569005603304\\CT.nii\n",
      "E:/data/TCIA/CT_PET_Segs\\R01-106-1759188186836010\\CT.nii\n",
      "E:/data/TCIA/CT_PET_Segs\\R01-107-7425249631792041\\CT.nii\n",
      "E:/data/TCIA/CT_PET_Segs\\R01-108-6940459348189349\\CT.nii\n",
      "E:/data/TCIA/CT_PET_Segs\\R01-116-2015714036816367\\CT.nii\n",
      "E:/data/TCIA/CT_PET_Segs\\R01-125-3116006163838768\\CT.nii\n",
      "E:/data/TCIA/CT_PET_Segs\\R01-127-1277807746907571\\CT.nii\n",
      "E:/data/TCIA/CT_PET_Segs\\R01-128-2993727162524848\\CT.nii\n",
      "E:/data/TCIA/CT_PET_Segs\\R01-131-7190659004152117\\CT.nii\n",
      "E:/data/TCIA/CT_PET_Segs\\R01-134-2132614526118393\\CT.nii\n",
      "E:/data/TCIA/CT_PET_Segs\\R01-135-2630113164075995\\CT.nii\n",
      "E:/data/TCIA/CT_PET_Segs\\R01-138-1818521178606875\\CT.nii\n",
      "E:/data/TCIA/CT_PET_Segs\\R01-139-1090552932086753\\CT.nii\n",
      "E:/data/TCIA/CT_PET_Segs\\R01-140-3164067596723884\\CT.nii\n",
      "E:/data/TCIA/CT_PET_Segs\\R01-144-2696413533099894\\CT.nii\n",
      "E:/data/TCIA/CT_PET_Segs\\R01-145-2857963715643694\\CT.nii\n",
      "E:/data/TCIA/CT_PET_Segs\\R01-147-1826347541966640\\CT.nii\n",
      "E:/data/TCIA/CT_PET_Segs\\R01-148-3590767367875669\\CT.nii\n",
      "E:/data/TCIA/CT_PET_Segs\\R01-149-2585597904781025\\CT.nii\n",
      "E:/data/TCIA/CT_PET_Segs\\R01-151-1447986773512454\\CT.nii\n",
      "E:/data/TCIA/CT_PET_Segs\\R01-152-1287600947524840\\CT.nii\n",
      "E:/data/TCIA/CT_PET_Segs\\R01-154-1245707890227525\\CT.nii\n",
      "E:/data/TCIA/CT_PET_Segs\\R01-157-4048065330618145\\CT.nii\n",
      "E:/data/TCIA/CT_PET_Segs\\R01-160-3278630765297722\\CT.nii\n"
     ]
    }
   ],
   "source": [
    "from shutil import copyfile, copy\n",
    "import os\n",
    "from joblib import Parallel, delayed\n",
    "import multiprocessing\n",
    "\n",
    "\n",
    "def TCIA(i):\n",
    "    path = ct_list_path[i]\n",
    "    folder_single = path.split('\\\\')[-2]\n",
    "    print(path)\n",
    "    folder = os.path.join(des,folder_single)\n",
    "    os.makedirs(folder, exist_ok=True)\n",
    "\n",
    "    CT_tumor_window_source = os.path.join(path_SUV_Sheeba, folder_single, 'Seg_tumor.nii' )\n",
    "    copy(CT_tumor_window_source, folder)\n",
    "    os.remove(     os.path.join(folder,'CT_tumor_window.nii')    )\n",
    "\n",
    "\n",
    "\n",
    "des = 'C:/Users/MSalehjahromi/Desktop/CT_PET_Segs'\n",
    "os.makedirs(des, exist_ok=True)\n",
    "\n",
    "path_SUV_Sheeba = 'E:/data/TCIA/CT_PET_Segs'\n",
    "folders = [j for j in os.listdir(path_SUV_Sheeba)]\n",
    "ct_list_path = [os.path.join(path_SUV_Sheeba,folder,'CT.nii') for folder in folders]\n",
    "for i in range(len(ct_list_path)):\n",
    "    TCIA(i)"
   ]
  },
  {
   "cell_type": "code",
   "execution_count": 95,
   "id": "93396935",
   "metadata": {},
   "outputs": [
    {
     "data": {
      "text/plain": [
       "'AMC-004-1919102521447413'"
      ]
     },
     "execution_count": 95,
     "metadata": {},
     "output_type": "execute_result"
    }
   ],
   "source": [
    "path = ct_list_path[0]\n",
    "path.split('\\\\')[-2]"
   ]
  },
  {
   "cell_type": "code",
   "execution_count": null,
   "id": "e93bd373",
   "metadata": {},
   "outputs": [],
   "source": []
  }
 ],
 "metadata": {
  "kernelspec": {
   "display_name": "Python 3 (ipykernel)",
   "language": "python",
   "name": "python3"
  },
  "language_info": {
   "codemirror_mode": {
    "name": "ipython",
    "version": 3
   },
   "file_extension": ".py",
   "mimetype": "text/x-python",
   "name": "python",
   "nbconvert_exporter": "python",
   "pygments_lexer": "ipython3",
   "version": "3.8.11"
  }
 },
 "nbformat": 4,
 "nbformat_minor": 5
}
