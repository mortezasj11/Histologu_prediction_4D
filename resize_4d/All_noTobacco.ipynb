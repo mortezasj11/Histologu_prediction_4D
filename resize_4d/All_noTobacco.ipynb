{
 "cells": [
  {
   "cell_type": "code",
   "execution_count": 21,
   "id": "503759ca",
   "metadata": {},
   "outputs": [],
   "source": [
    "import numpy as np\n",
    "import os\n",
    "import matplotlib.pyplot as plt\n",
    "import nibabel as nib\n",
    "import pandas as pd\n",
    "from shutil import copy\n",
    "np.random.seed(12345)"
   ]
  },
  {
   "cell_type": "code",
   "execution_count": 36,
   "id": "073a06e4",
   "metadata": {},
   "outputs": [
    {
     "data": {
      "text/html": [
       "<div>\n",
       "<style scoped>\n",
       "    .dataframe tbody tr th:only-of-type {\n",
       "        vertical-align: middle;\n",
       "    }\n",
       "\n",
       "    .dataframe tbody tr th {\n",
       "        vertical-align: top;\n",
       "    }\n",
       "\n",
       "    .dataframe thead th {\n",
       "        text-align: right;\n",
       "    }\n",
       "</style>\n",
       "<table border=\"1\" class=\"dataframe\">\n",
       "  <thead>\n",
       "    <tr style=\"text-align: right;\">\n",
       "      <th></th>\n",
       "      <th>ID</th>\n",
       "      <th>Histology</th>\n",
       "      <th>Age</th>\n",
       "      <th>TobaccoUse</th>\n",
       "      <th>Gender</th>\n",
       "    </tr>\n",
       "  </thead>\n",
       "  <tbody>\n",
       "    <tr>\n",
       "      <th>0</th>\n",
       "      <td>Hugo_LUNG1-001</td>\n",
       "      <td>large cell</td>\n",
       "      <td>78.751500</td>\n",
       "      <td>NaN</td>\n",
       "      <td>Male</td>\n",
       "    </tr>\n",
       "    <tr>\n",
       "      <th>1</th>\n",
       "      <td>Hugo_LUNG1-002</td>\n",
       "      <td>squamous cell carcinoma</td>\n",
       "      <td>83.800100</td>\n",
       "      <td>NaN</td>\n",
       "      <td>Male</td>\n",
       "    </tr>\n",
       "    <tr>\n",
       "      <th>2</th>\n",
       "      <td>Hugo_LUNG1-003</td>\n",
       "      <td>large cell</td>\n",
       "      <td>68.180700</td>\n",
       "      <td>NaN</td>\n",
       "      <td>Male</td>\n",
       "    </tr>\n",
       "    <tr>\n",
       "      <th>3</th>\n",
       "      <td>Hugo_LUNG1-004</td>\n",
       "      <td>squamous cell carcinoma</td>\n",
       "      <td>70.880200</td>\n",
       "      <td>NaN</td>\n",
       "      <td>Male</td>\n",
       "    </tr>\n",
       "    <tr>\n",
       "      <th>4</th>\n",
       "      <td>Hugo_LUNG1-005</td>\n",
       "      <td>squamous cell carcinoma</td>\n",
       "      <td>80.481900</td>\n",
       "      <td>NaN</td>\n",
       "      <td>Male</td>\n",
       "    </tr>\n",
       "    <tr>\n",
       "      <th>...</th>\n",
       "      <td>...</td>\n",
       "      <td>...</td>\n",
       "      <td>...</td>\n",
       "      <td>...</td>\n",
       "      <td>...</td>\n",
       "    </tr>\n",
       "    <tr>\n",
       "      <th>1381</th>\n",
       "      <td>Patient_1288</td>\n",
       "      <td>Adenocarcinoma</td>\n",
       "      <td>62.879452</td>\n",
       "      <td>Former</td>\n",
       "      <td>Female</td>\n",
       "    </tr>\n",
       "    <tr>\n",
       "      <th>1382</th>\n",
       "      <td>Patient_1292</td>\n",
       "      <td>Adenocarcinoma</td>\n",
       "      <td>53.616438</td>\n",
       "      <td>Never (&lt;100 lifetime cigarettes)</td>\n",
       "      <td>Female</td>\n",
       "    </tr>\n",
       "    <tr>\n",
       "      <th>1383</th>\n",
       "      <td>Patient_1293</td>\n",
       "      <td>Adenocarcinoma</td>\n",
       "      <td>72.224658</td>\n",
       "      <td>Former</td>\n",
       "      <td>Female</td>\n",
       "    </tr>\n",
       "    <tr>\n",
       "      <th>1384</th>\n",
       "      <td>Patient_1295</td>\n",
       "      <td>Squamous cell carcinoma</td>\n",
       "      <td>68.123288</td>\n",
       "      <td>Former</td>\n",
       "      <td>Male</td>\n",
       "    </tr>\n",
       "    <tr>\n",
       "      <th>1385</th>\n",
       "      <td>Patient_1297</td>\n",
       "      <td>Adenocarcinoma</td>\n",
       "      <td>64.602740</td>\n",
       "      <td>Never (&lt;100 lifetime cigarettes)</td>\n",
       "      <td>Female</td>\n",
       "    </tr>\n",
       "  </tbody>\n",
       "</table>\n",
       "<p>1386 rows × 5 columns</p>\n",
       "</div>"
      ],
      "text/plain": [
       "                  ID                Histology        Age  \\\n",
       "0     Hugo_LUNG1-001               large cell  78.751500   \n",
       "1     Hugo_LUNG1-002  squamous cell carcinoma  83.800100   \n",
       "2     Hugo_LUNG1-003               large cell  68.180700   \n",
       "3     Hugo_LUNG1-004  squamous cell carcinoma  70.880200   \n",
       "4     Hugo_LUNG1-005  squamous cell carcinoma  80.481900   \n",
       "...              ...                      ...        ...   \n",
       "1381    Patient_1288           Adenocarcinoma  62.879452   \n",
       "1382    Patient_1292           Adenocarcinoma  53.616438   \n",
       "1383    Patient_1293           Adenocarcinoma  72.224658   \n",
       "1384    Patient_1295  Squamous cell carcinoma  68.123288   \n",
       "1385    Patient_1297           Adenocarcinoma  64.602740   \n",
       "\n",
       "                            TobaccoUse  Gender  \n",
       "0                                  NaN    Male  \n",
       "1                                  NaN    Male  \n",
       "2                                  NaN    Male  \n",
       "3                                  NaN    Male  \n",
       "4                                  NaN    Male  \n",
       "...                                ...     ...  \n",
       "1381                            Former  Female  \n",
       "1382  Never (<100 lifetime cigarettes)  Female  \n",
       "1383                            Former  Female  \n",
       "1384                            Former    Male  \n",
       "1385  Never (<100 lifetime cigarettes)  Female  \n",
       "\n",
       "[1386 rows x 5 columns]"
      ]
     },
     "execution_count": 36,
     "metadata": {},
     "output_type": "execute_result"
    }
   ],
   "source": [
    "# list_Ge = os.listdir('E:/data/Histology/Nature_Gemini_4d_Apr2022/Gemini_4d_4_15_2022')   # CT_xxxx.nii.gz\n",
    "# list_G = [i[3:7] for i in list_Ge ] # xxxx\n",
    "# list_Na = os.listdir('E:/data/Histology/Nature_Gemini_4d_Apr2022/nature_4d_4_15_2022')   #  x_ct.nii.gz\n",
    "# list_N = [i[:-10] for i in list_Na ] # x\n",
    "\n",
    "# columns = ['ID','Histology','Age','TobaccoUse','Gender']\n",
    "# df_new = pd.DataFrame(columns=columns)\n",
    "# df_both = pd.read_csv('both_added_2_18_2022.csv')\n",
    "# ID_list = df_both['ID'].tolist() # Patient_1294\n",
    "\n",
    "# for id in ID_list:\n",
    "#     if (id.startswith('Patient_') and id[8:12] in list_G) or ( id in list_N):\n",
    "#         Hist = df_both[df_both[\"ID\"]==id]['Histology']\n",
    "#         Age = df_both[df_both[\"ID\"]==id]['Age']   #TobaccoUse    Gender\n",
    "#         smoking = df_both[df_both[\"ID\"]==id]['TobaccoUse']\n",
    "#         Gender = df_both[df_both[\"ID\"]==id]['Gender']\n",
    "\n",
    "#         series_id = [pd.Series([id, Hist.item(), Age.item(),smoking.item(), Gender.item()], index = df_new.columns[0:5])]\n",
    "#         df_new = df_new.append(series_id, ignore_index=True)\n",
    "\n",
    "# df_new.to_csv('both_added_Apr.csv')\n",
    "# df_new\n"
   ]
  },
  {
   "cell_type": "code",
   "execution_count": 37,
   "id": "cc03cbe4",
   "metadata": {},
   "outputs": [
    {
     "name": "stdout",
     "output_type": "stream",
     "text": [
      "568 555\n",
      "555 0\n"
     ]
    }
   ],
   "source": [
    "df_both = pd.read_csv('both_added_Apr.csv')\n",
    "ID_list = df_both['ID'].tolist()\n",
    "ID_list_G = [i for i in ID_list if i.startswith('Patient_')]\n",
    "ID_list_N = [i for i in ID_list if not i.startswith('Patient_')]\n",
    "\n",
    "\n",
    "list_G = os.listdir('E:/data/Histology/Nature_Gemini_4d_Apr2022/Gemini_4d_4_15_2022')\n",
    "list_G = [i[3:7] for i in list_G ]\n",
    "in_list = []\n",
    "out_list = []\n",
    "for i in ID_list_G:\n",
    "\n",
    "    if i[8:12] in list_G:\n",
    "        in_list.append(i)\n",
    "    else:\n",
    "        out_list.append(i)\n",
    "\n",
    "print(len(list_G),len(ID_list_G))\n",
    "print(len(in_list),len(out_list))"
   ]
  },
  {
   "cell_type": "code",
   "execution_count": 38,
   "id": "76e84059",
   "metadata": {},
   "outputs": [
    {
     "name": "stdout",
     "output_type": "stream",
     "text": [
      "568 0\n"
     ]
    }
   ],
   "source": [
    "list_in = []\n",
    "list_out = []\n",
    "for i in os.listdir('E:/data/Histology/Nature_Gemini_4d_Apr2022/Gemini_4d_4_15_2022'):\n",
    "    if i[3:7] in list_G:\n",
    "        list_in.append(i)\n",
    "    else:\n",
    "        list_out.append(i)\n",
    "\n",
    "print(len(list_in), len(list_out))"
   ]
  },
  {
   "cell_type": "code",
   "execution_count": 39,
   "id": "7fa09013",
   "metadata": {},
   "outputs": [
    {
     "name": "stdout",
     "output_type": "stream",
     "text": [
      "969 831\n",
      "831 0\n"
     ]
    }
   ],
   "source": [
    "ID_list = df_both['ID'].tolist()\n",
    "list_nature = os.listdir('E:/data/Histology/Nature_Gemini_4d_Apr2022/nature_4d_4_15_2022')\n",
    "list_nature = [i[:-10] for i in list_nature ]\n",
    "in_list = []\n",
    "out_list = []\n",
    "for i in ID_list_N:\n",
    "    if i in list_nature:\n",
    "        in_list.append(i)\n",
    "    else:\n",
    "        out_list.append(i)\n",
    "        \n",
    "print(len(list_nature),len(ID_list_N))\n",
    "print(len(in_list),len(out_list))"
   ]
  },
  {
   "cell_type": "code",
   "execution_count": 41,
   "id": "8a6f1be1",
   "metadata": {},
   "outputs": [
    {
     "data": {
      "text/plain": [
       "{'Current', 'Former', 'Never (<100 lifetime cigarettes)', 'Nonsmoker', nan}"
      ]
     },
     "execution_count": 41,
     "metadata": {},
     "output_type": "execute_result"
    }
   ],
   "source": [
    "set(df_both[\"TobaccoUse\"].tolist())"
   ]
  },
  {
   "cell_type": "code",
   "execution_count": 42,
   "id": "c78d7d89",
   "metadata": {},
   "outputs": [
    {
     "data": {
      "text/plain": [
       "{'Female', 'Male', nan}"
      ]
     },
     "execution_count": 42,
     "metadata": {},
     "output_type": "execute_result"
    }
   ],
   "source": [
    "set(df_both[\"Gender\"].tolist())"
   ]
  },
  {
   "cell_type": "code",
   "execution_count": 46,
   "id": "dd6daf45",
   "metadata": {},
   "outputs": [],
   "source": [
    "#set(df_both[\"Age\"].tolist())\n"
   ]
  },
  {
   "cell_type": "code",
   "execution_count": 43,
   "id": "bcc83ec5",
   "metadata": {},
   "outputs": [
    {
     "name": "stdout",
     "output_type": "stream",
     "text": [
      "1264\n"
     ]
    }
   ],
   "source": [
    "\n",
    "count = 0\n",
    "IDs = []\n",
    "for i in df_both[\"ID\"].tolist():\n",
    "    Age = df_both[df_both[\"ID\"]==i]['Age']   #TobaccoUse    Gender\n",
    "    TobaccoUse = df_both[df_both[\"ID\"]==i]['TobaccoUse']\n",
    "    Gender = df_both[df_both[\"ID\"]==i]['Gender']\n",
    "    #print(Age )\n",
    "    #print(TobaccoUse)\n",
    "    #print(Gender)\n",
    "    if not pd.isnull(Gender.item()) and not pd.isnull(Age.item()): #pd.isnull  TobaccoUse.item()=='NaN' or\n",
    "        #print(count)\n",
    "        IDs.append(i)\n",
    "        count += 1\n",
    "print(len(IDs))"
   ]
  },
  {
   "cell_type": "markdown",
   "id": "d6f0f283",
   "metadata": {},
   "source": [
    "until 708 is from NMI paper"
   ]
  },
  {
   "cell_type": "code",
   "execution_count": 47,
   "id": "afa78dd3",
   "metadata": {},
   "outputs": [],
   "source": [
    "# # shuffling\n",
    "# IDs_0_709 = np.array(IDs[0:709])\n",
    "# indices_0_709 = np.arange(len(IDs_0_709))\n",
    "# np.random.shuffle(indices_0_709)\n",
    "# IDs_0_709 = IDs_0_709[indices_0_709]"
   ]
  },
  {
   "cell_type": "code",
   "execution_count": 48,
   "id": "4d803b95",
   "metadata": {},
   "outputs": [
    {
     "data": {
      "text/plain": [
       "(709,)"
      ]
     },
     "execution_count": 48,
     "metadata": {},
     "output_type": "execute_result"
    }
   ],
   "source": [
    "# IDs_0_709.shape"
   ]
  },
  {
   "cell_type": "code",
   "execution_count": 49,
   "id": "54d12c55",
   "metadata": {},
   "outputs": [],
   "source": [
    "# # shuffling\n",
    "# IDs_709end = np.array(IDs[709:])\n",
    "# indices_709end = np.arange(len(IDs_709end))\n",
    "# np.random.shuffle(indices_709end)\n",
    "# IDs_709end = IDs_709end[indices_709end]"
   ]
  },
  {
   "cell_type": "code",
   "execution_count": 50,
   "id": "3cdbb8f3",
   "metadata": {},
   "outputs": [
    {
     "data": {
      "text/plain": [
       "(555,)"
      ]
     },
     "execution_count": 50,
     "metadata": {},
     "output_type": "execute_result"
    }
   ],
   "source": [
    "# IDs_709end.shape"
   ]
  },
  {
   "cell_type": "code",
   "execution_count": 51,
   "id": "83f7ed55",
   "metadata": {},
   "outputs": [],
   "source": [
    "# IDs_total = np.concatenate((IDs_0_709,IDs_709end))"
   ]
  },
  {
   "cell_type": "code",
   "execution_count": 52,
   "id": "c7e4236c",
   "metadata": {},
   "outputs": [
    {
     "data": {
      "text/plain": [
       "(1264,)"
      ]
     },
     "execution_count": 52,
     "metadata": {},
     "output_type": "execute_result"
    }
   ],
   "source": [
    "# IDs_total.shape"
   ]
  },
  {
   "cell_type": "code",
   "execution_count": 13,
   "id": "62ced26c",
   "metadata": {},
   "outputs": [
    {
     "data": {
      "text/plain": [
       "1445"
      ]
     },
     "execution_count": 13,
     "metadata": {},
     "output_type": "execute_result"
    }
   ],
   "source": [
    "# 1795-350"
   ]
  },
  {
   "cell_type": "code",
   "execution_count": 55,
   "id": "e5414e38",
   "metadata": {},
   "outputs": [
    {
     "name": "stdout",
     "output_type": "stream",
     "text": [
      "1264\n",
      "1064 200\n"
     ]
    }
   ],
   "source": [
    "# # shuffling\n",
    "IDs_shuffle = np.array(IDs)\n",
    "indices = np.arange(len(IDs_shuffle))\n",
    "np.random.shuffle(IDs_shuffle)\n",
    "print(len(IDs))\n",
    "\n",
    "n_train = 1064\n",
    "n_val = 200\n",
    "\n",
    "IDs_train = IDs[:n_train]\n",
    "IDs_val = IDs[n_train:]\n",
    "\n",
    "print(len(IDs_train), len(IDs_val))"
   ]
  },
  {
   "cell_type": "code",
   "execution_count": 15,
   "id": "66d9a1f8",
   "metadata": {},
   "outputs": [
    {
     "name": "stdout",
     "output_type": "stream",
     "text": [
      "1445 200 150\n"
     ]
    }
   ],
   "source": [
    "# n_test_NMI = 0\n",
    "# IDs_val2 = IDs[:n_test_NMI]\n",
    "\n",
    "# # shuffling\n",
    "# IDs_without_val2 = IDs[n_test_NMI:]\n",
    "# indices = np.arange(len(IDs_without_val2))\n",
    "# np.random.shuffle(indices)\n",
    "# IDs_without_val2 = IDs_without_val2[indices]\n",
    "\n",
    "# train, val\n",
    "# n_train = 1064\n",
    "# n_val = 200\n",
    "\n",
    "# IDs_train = IDs_without_val2[:n_train]\n",
    "# IDs_val = IDs_without_val2[n_train:]\n",
    "\n",
    "# print(len(IDs_train), len(IDs_val), len(IDs_val2))"
   ]
  },
  {
   "cell_type": "code",
   "execution_count": 56,
   "id": "2503420c",
   "metadata": {},
   "outputs": [
    {
     "name": "stdout",
     "output_type": "stream",
     "text": [
      "67.48695199297933 68.0\n",
      "67.48695199297933 10.482364882362727\n",
      "-5.008524923121007e-16 1.0\n"
     ]
    }
   ],
   "source": [
    "age_array = []\n",
    "for i, id in enumerate(IDs_train):\n",
    "    Age = df_both[df_both[\"ID\"]==id]['Age'].item()  #TobaccoUse    Gender\n",
    "    age_array.append(Age)\n",
    "\n",
    "age_array = np.array(age_array)\n",
    "\n",
    "age_mean = np.mean(age_array)\n",
    "print(np.mean(age_array), np.median(age_array))\n",
    "age_std = np.std(age_array)\n",
    "print(age_mean, age_std)\n",
    "age_array = (age_array -age_mean)/age_std\n",
    "print(age_array.mean(), age_array.std())"
   ]
  },
  {
   "cell_type": "code",
   "execution_count": 57,
   "id": "194a4b6f",
   "metadata": {},
   "outputs": [
    {
     "name": "stdout",
     "output_type": "stream",
     "text": [
      "-0.2013355349354742 0.8722818048899136\n",
      "-3.244258363892598 1.68430635215983\n"
     ]
    }
   ],
   "source": [
    "age_array = []\n",
    "for i, id in enumerate(IDs_val):\n",
    "    Age = df_both[df_both[\"ID\"]==id]['Age']   #TobaccoUse    Gender\n",
    "    Age = (Age.item()-age_mean)/age_std\n",
    "    age_array.append(Age)\n",
    "\n",
    "age_array = np.array(age_array)\n",
    "\n",
    "np.mean(age_array)\n",
    "np.std(age_array)\n",
    "\n",
    "print(np.mean(age_array), np.std(age_array))\n",
    "print(age_array.min(), age_array.max())"
   ]
  },
  {
   "cell_type": "code",
   "execution_count": 58,
   "id": "cd325125",
   "metadata": {},
   "outputs": [],
   "source": [
    "\n",
    "train_folder = 'E:/data/Histology/Nature_Gemini_4d_Apr2022/TrainValTest/NatureGeminiAll_NoTobacco'\n",
    "val_folder =   'E:/data/Histology/Nature_Gemini_4d_Apr2022/TrainValTest/NatureGeminiAll_NoTobacco'\n",
    "test_folder =  'E:/data/Histology/Nature_Gemini_4d_Apr2022/TrainValTest/NatureGeminiAll_NoTobacco'\n",
    "os.makedirs(train_folder, exist_ok=True)\n",
    "os.makedirs(val_folder, exist_ok=True)\n",
    "os.makedirs(test_folder, exist_ok=True)\n",
    "\n",
    "df = pd.read_csv('both_added_Apr.csv')\n",
    "df_train = pd.DataFrame(columns=['ID', 'Histology','Histology012', 'Age', 'gender_cat', 'gender' ])\n",
    "df_val   = pd.DataFrame(columns=['ID', 'Histology','Histology012', 'Age', 'gender_cat', 'gender' ])\n",
    "df_test  = pd.DataFrame(columns=['ID', 'Histology','Histology012', 'Age', 'gender_cat', 'gender' ])\n",
    "\n",
    "D_hist = {   'adenocarcinoma'                   : 0 ,\n",
    "             'Adenocarcinoma'                   : 0 ,\n",
    "             'Squamous cell carcinoma'          : 1 ,\n",
    "             'squamous cell carcinoma'          : 1 ,\n",
    "             'Sarcomatoid carcinoma'            : 0 ,\n",
    "             'Adenosquamous carcinoma'          : 0 ,\n",
    "             'Large cell carcinoma'             : 0 ,\n",
    "             'Non-small cell carcinoma NOS'     : 0 ,\n",
    "             'Sarcomatoid carcinoma'            : 0 ,\n",
    "             'large cell'                       : 0 ,\n",
    "             'nos'                              : 0 }\n",
    "\n",
    "D_gender = {   'Female'                         : 0 ,\n",
    "               'Male'                           : 1 }\n",
    "\n",
    "D_smoking = {'Current'                          : 0 ,\n",
    "             'Former'                           : 0 ,\n",
    "             'Never (<100 lifetime cigarettes)' : 1 , \n",
    "             'Nonsmoker'                        : 1 }\n",
    "\n",
    "\n",
    "for i, id in enumerate(IDs_train):\n",
    "    Hist = df[df[\"ID\"]==id]['Histology']\n",
    "    Age = df[df[\"ID\"]==id]['Age']   #TobaccoUse    Gender\n",
    "    Age = (Age.item()-age_mean)/age_std\n",
    "    Gender = df[df[\"ID\"]==id]['Gender']\n",
    "    if id.startswith('Patient'):\n",
    "        idd = 'CT_'+id[8:]\n",
    "    else:\n",
    "        idd = id\n",
    "    #'ID', 'Histology','Histology012', 'Age', 'gender_cat', 'gender', 'TobaccoUse', 'smoking' \n",
    "    series_id = [pd.Series([idd, Hist.item(), D_hist[Hist.item()], Age, Gender.item(), D_gender[Gender.item()]], index = df_train.columns[0:6])]\n",
    "    df_train = df_train.append(series_id, ignore_index=True)\n",
    "\n",
    "    \n",
    "for i, id in enumerate(IDs_val):\n",
    "    Hist = df[df[\"ID\"]==id]['Histology']\n",
    "    Age = df[df[\"ID\"]==id]['Age']   #TobaccoUse    Gender\n",
    "    Age = (Age.item()-age_mean)/age_std\n",
    "    Gender = df[df[\"ID\"]==id]['Gender']\n",
    "    if id.startswith('Patient'):\n",
    "        idd = 'CT_'+id[8:]\n",
    "    else:\n",
    "        idd = id\n",
    "    #'ID', 'Histology','Histology012', 'Age', 'gender_cat', 'gender', 'TobaccoUse', 'smoking' \n",
    "    series_id = [pd.Series([idd, Hist.item(), D_hist[Hist.item()], Age, Gender.item(), D_gender[Gender.item()]], index = df_val.columns[0:6])]\n",
    "    df_val = df_val.append(series_id, ignore_index=True)\n",
    "    \n",
    "# for i, id in enumerate(IDs_val2):\n",
    "#     Hist = df[df[\"ID\"]==id]['Histology']\n",
    "#     Age = df[df[\"ID\"]==id]['Age']   #TobaccoUse    Gender\n",
    "#     Age = (Age.item()-age_mean)/age_std\n",
    "#     Gender = df[df[\"ID\"]==id]['Gender']\n",
    "#     if id.startswith('Patient'):\n",
    "#         idd = 'CT_'+id[8:]\n",
    "#     else:\n",
    "#         idd = id\n",
    "#     #'ID', 'Histology','Histology012', 'Age', 'gender_cat', 'gender', 'TobaccoUse', 'smoking' \n",
    "#     series_id = [pd.Series([idd, Hist.item(), D_hist[Hist.item()], Age, Gender.item(), D_gender[Gender.item()]], index = df_val.columns[0:6])]\n",
    "#     df_test = df_val.append(series_id, ignore_index=True)\n",
    "\n",
    "df_train.to_csv(os.path.join(train_folder, 'train.csv'))\n",
    "df_val.to_csv(os.path.join(val_folder, 'val.csv'))\n",
    "df_test.to_csv(os.path.join(test_folder, 'test.csv'))"
   ]
  },
  {
   "cell_type": "code",
   "execution_count": null,
   "id": "30034674",
   "metadata": {},
   "outputs": [],
   "source": [
    "Gemini_l = 0\n",
    "Nature_l = 0\n",
    "for i, id in enumerate(IDs):\n",
    "    if id.startswith(\"Patient\"):\n",
    "        Gemini_l += 1\n",
    "    elif id.startswith(\"Sand\"):\n",
    "        Nature_l += 1\n",
    "\n",
    "print(Gemini_l,Nature_l, Gemini_l+Nature_l)\n",
    "\n",
    "Gemini_l = 0\n",
    "Nature_l = 0\n",
    "for i, id in enumerate(IDs_train):\n",
    "    if id.startswith(\"Patient\"):\n",
    "        Gemini_l += 1\n",
    "    elif id.startswith(\"Sand\"):\n",
    "        Nature_l += 1\n",
    "\n",
    "print(Gemini_l,Nature_l, Gemini_l+Nature_l)\n",
    "\n",
    "Gemini_l = 0\n",
    "Nature_l = 0\n",
    "for i, id in enumerate(IDs_val):\n",
    "    if id.startswith(\"Patient\"):\n",
    "        Gemini_l += 1\n",
    "    elif id.startswith(\"Sand\"):\n",
    "        Nature_l += 1\n",
    "\n",
    "print(Gemini_l,Nature_l, Gemini_l+Nature_l)"
   ]
  },
  {
   "cell_type": "code",
   "execution_count": null,
   "id": "bae1feef",
   "metadata": {},
   "outputs": [],
   "source": [
    "df_train"
   ]
  },
  {
   "cell_type": "code",
   "execution_count": null,
   "id": "0f8c0a55",
   "metadata": {},
   "outputs": [],
   "source": [
    "print('##### TRAINING ######')\n",
    "print(\"'''''''''''''''''''''\")\n",
    "print('Squamous    : ',df_train[df_train['Histology012']==0].shape[0])\n",
    "print('Adeno : ',df_train[df_train['Histology012']==1].shape[0])\n",
    "print('other    : ',df_train[df_train['Histology012']==2].shape[0])\n",
    "print()\n",
    "print()\n",
    "print('##### Validation ######')\n",
    "print(\"'''''''''''''''''''''\")\n",
    "print('Squamous    : ',df_val[df_val['Histology012']==0].shape[0])\n",
    "print('Adeno : ',df_val[df_val['Histology012']==1].shape[0])\n",
    "print('other    : ',df_val[df_val['Histology012']==2].shape[0])\n",
    "print()\n",
    "print()\n",
    "print('##### Test ######')\n",
    "print(\"'''''''''''''''''''''\")\n",
    "print('Squamous    : ',df_test[df_test['Histology012']==0].shape[0])\n",
    "print('Adeno : ',df_test[df_test['Histology012']==1].shape[0])\n",
    "print('other    : ',df_test[df_test['Histology012']==2].shape[0])"
   ]
  },
  {
   "cell_type": "code",
   "execution_count": null,
   "id": "995118c8",
   "metadata": {},
   "outputs": [],
   "source": [
    "print('##### TRAINING ######')\n",
    "print(\"'''''''''''''''''''''\")\n",
    "print('Female    : ',df_train[df_train['gender']==0].shape[0])\n",
    "print('Male : ',df_train[df_train['gender']==1].shape[0])\n",
    "print('other    : ',df_train[df_train['gender']==2].shape[0])\n",
    "print()\n",
    "print()\n",
    "print('##### Validation ######')\n",
    "print(\"'''''''''''''''''''''\")\n",
    "print('Female    : ',df_val[df_val['gender']==0].shape[0])\n",
    "print('Male : ',df_val[df_val['gender']==1].shape[0])\n",
    "print('other    : ',df_val[df_val['gender']==2].shape[0])\n",
    "print()\n",
    "print()\n",
    "print('##### Test ######')\n",
    "print(\"'''''''''''''''''''''\")\n",
    "print('Female    : ',df_test[df_test['gender']==0].shape[0])\n",
    "print('Male : ',df_test[df_test['gender']==1].shape[0])\n",
    "print('other    : ',df_test[df_test['gender']==2].shape[0])"
   ]
  },
  {
   "cell_type": "code",
   "execution_count": null,
   "id": "9dff561c",
   "metadata": {},
   "outputs": [],
   "source": [
    "print('##### TRAINING ######')\n",
    "print(\"'''''''''''''''''''''\")\n",
    "print('Current,Former   : ',df_train[df_train['smoking']==0].shape[0])\n",
    "print('Nonsmoker : ',df_train[df_train['smoking']==1].shape[0])\n",
    "print('other    : ',df_train[df_train['smoking']==2].shape[0])\n",
    "print()\n",
    "print()\n",
    "print('##### Validation ######')\n",
    "print(\"'''''''''''''''''''''\")\n",
    "print('Current,Former   : ',df_val[df_val['smoking']==0].shape[0])\n",
    "print('Nonsmoker : ',df_val[df_val['smoking']==1].shape[0])\n",
    "print('other    : ',df_val[df_val['smoking']==2].shape[0])\n",
    "print()\n",
    "print()\n",
    "print('##### Test ######')\n",
    "print(\"'''''''''''''''''''''\")\n",
    "print('Current,Former   : ',df_test[df_test['smoking']==0].shape[0])\n",
    "print('Nonsmoker : ',df_test[df_test['smoking']==1].shape[0])\n",
    "print('other    : ',df_test[df_test['smoking']==2].shape[0])"
   ]
  },
  {
   "cell_type": "code",
   "execution_count": null,
   "id": "5adef571",
   "metadata": {},
   "outputs": [],
   "source": [
    "os.path.join(train_folder, 'train.csv')"
   ]
  },
  {
   "cell_type": "code",
   "execution_count": null,
   "id": "b98da4ae",
   "metadata": {},
   "outputs": [],
   "source": [
    "plt.plot([1,2,3],[1,2,3],'*')\n",
    "plt.grid()"
   ]
  },
  {
   "cell_type": "code",
   "execution_count": null,
   "id": "eb2c420e",
   "metadata": {},
   "outputs": [],
   "source": [
    "a = Noneu\n",
    "if a:\n",
    "    print('i')"
   ]
  },
  {
   "cell_type": "code",
   "execution_count": null,
   "id": "635b3bf3",
   "metadata": {},
   "outputs": [],
   "source": [
    "np.log10(1e5)"
   ]
  },
  {
   "cell_type": "code",
   "execution_count": null,
   "id": "5a148d27",
   "metadata": {},
   "outputs": [],
   "source": [
    "a = [1]\n",
    "b= [2,3]\n",
    "a.append(b)"
   ]
  },
  {
   "cell_type": "code",
   "execution_count": null,
   "id": "957faed4",
   "metadata": {},
   "outputs": [],
   "source": [
    "a"
   ]
  },
  {
   "cell_type": "code",
   "execution_count": null,
   "id": "49f527aa",
   "metadata": {},
   "outputs": [],
   "source": [
    "a = [1]\n",
    "b= [2,3]\n",
    "for i in b:\n",
    "    a.append(i)"
   ]
  },
  {
   "cell_type": "code",
   "execution_count": null,
   "id": "9a3b1579",
   "metadata": {},
   "outputs": [],
   "source": [
    "a"
   ]
  },
  {
   "cell_type": "code",
   "execution_count": null,
   "id": "43a7a5d5",
   "metadata": {},
   "outputs": [],
   "source": [
    "[i+3 for i in b if i==2 else i+4]"
   ]
  },
  {
   "cell_type": "code",
   "execution_count": null,
   "id": "05b31860",
   "metadata": {},
   "outputs": [],
   "source": [
    "path = 'U:/Mori/Task501_MultiOrgan/imagesTs'\n",
    "os.listdir(path)"
   ]
  },
  {
   "cell_type": "code",
   "execution_count": null,
   "id": "8fe8fee9",
   "metadata": {},
   "outputs": [],
   "source": [
    "\n",
    "from collections import OrderedDict\n",
    "json_dict = OrderedDict()"
   ]
  },
  {
   "cell_type": "code",
   "execution_count": null,
   "id": "d5bb2fd9",
   "metadata": {},
   "outputs": [],
   "source": [
    "json_dict['training'] = [{'image': \"./imagesTr/%s.nii.gz\" % i[:-12],\n",
    "                              \"label\": \"./labelsTr/%s.nii.gz\" % i[:-12]}\n",
    "                               for i in os.listdir(path) if i.endswith('.gz')]"
   ]
  },
  {
   "cell_type": "code",
   "execution_count": null,
   "id": "43fbf346",
   "metadata": {},
   "outputs": [],
   "source": [
    "json_dict_training_nii = [{'image': \"./imagesTr/%s.nii\" % i[:-9],\n",
    "                            \"label\": \"./labelsTr/%s.nii\" % i[:-9]}\n",
    "                            for i in os.listdir(path) if i.endswith('.nii')]"
   ]
  },
  {
   "cell_type": "code",
   "execution_count": null,
   "id": "5d0deb0f",
   "metadata": {},
   "outputs": [],
   "source": [
    "json_dict['training'][0]"
   ]
  },
  {
   "cell_type": "code",
   "execution_count": null,
   "id": "20f3b26d",
   "metadata": {},
   "outputs": [],
   "source": [
    "a"
   ]
  },
  {
   "cell_type": "code",
   "execution_count": null,
   "id": "bb35f854",
   "metadata": {},
   "outputs": [],
   "source": [
    "a[0]"
   ]
  },
  {
   "cell_type": "code",
   "execution_count": null,
   "id": "dec971f1",
   "metadata": {},
   "outputs": [],
   "source": [
    "json_dict['training'].append(a)"
   ]
  },
  {
   "cell_type": "code",
   "execution_count": null,
   "id": "e79cbc33",
   "metadata": {},
   "outputs": [],
   "source": [
    "for i in json_dict_training_nii:\n",
    "    json_dict['training'].append(i)"
   ]
  },
  {
   "cell_type": "code",
   "execution_count": null,
   "id": "23e4a55d",
   "metadata": {},
   "outputs": [],
   "source": [
    "json_dict['training']"
   ]
  },
  {
   "cell_type": "code",
   "execution_count": null,
   "id": "61d0d02d",
   "metadata": {},
   "outputs": [],
   "source": [
    "i"
   ]
  },
  {
   "cell_type": "code",
   "execution_count": null,
   "id": "8e53f073",
   "metadata": {},
   "outputs": [],
   "source": [
    "json_dict['test'] = [\"./imagesTs/%s.nii.gz\" % i[:-12] for i in os.listdir(path) if i.endswith('.gz')]\n",
    "json_dict_test_nii = [\"./imagesTs/%s.nii\" % i[:-9] for i in os.listdir(path) if i.endswith('.nii')]\n",
    "for i in json_dict_test_nii:\n",
    "    json_dict['test'].append(i)"
   ]
  },
  {
   "cell_type": "code",
   "execution_count": null,
   "id": "c9e36aef",
   "metadata": {},
   "outputs": [],
   "source": [
    "json_dict['test']"
   ]
  },
  {
   "cell_type": "code",
   "execution_count": null,
   "id": "b1af84c6",
   "metadata": {},
   "outputs": [],
   "source": [
    "os.getcwd()"
   ]
  },
  {
   "cell_type": "code",
   "execution_count": 43,
   "id": "dc2efe6b",
   "metadata": {},
   "outputs": [
    {
     "name": "stdout",
     "output_type": "stream",
     "text": [
      "0 .   LIDC-IDRI-0028.nii.gz\n",
      "1 .   LIDC-IDRI-0032.nii.gz\n",
      "2 .   LIDC-IDRI-0062.nii.gz\n",
      "3 .   LIDC-IDRI-0071.nii.gz\n",
      "4 .   LIDC-IDRI-0082.nii.gz\n",
      "5 .   LIDC-IDRI-0100.nii.gz\n",
      "6 .   LIDC-IDRI-0107.nii.gz\n",
      "7 .   LIDC-IDRI-0123.nii.gz\n",
      "8 .   LIDC-IDRI-0131.nii.gz\n",
      "9 .   LIDC-IDRI-0143.nii.gz\n",
      "10 .   LIDC-IDRI-0151.nii.gz\n",
      "11 .   LIDC-IDRI-0155.nii.gz\n",
      "12 .   LIDC-IDRI-0158.nii.gz\n",
      "13 .   LIDC-IDRI-0174.nii.gz\n",
      "14 .   LIDC-IDRI-0176.nii.gz\n",
      "15 .   LIDC-IDRI-0180.nii.gz\n",
      "16 .   LIDC-IDRI-0189.nii.gz\n",
      "17 .   LIDC-IDRI-0197.nii.gz\n",
      "18 .   LIDC-IDRI-0205.nii.gz\n",
      "19 .   LIDC-IDRI-0207.nii.gz\n",
      "20 .   LIDC-IDRI-0214.nii.gz\n",
      "21 .   LIDC-IDRI-0218.nii.gz\n",
      "22 .   LIDC-IDRI-0224.nii.gz\n",
      "23 .   LIDC-IDRI-0225.nii.gz\n",
      "24 .   LIDC-IDRI-0226.nii.gz\n",
      "25 .   LIDC-IDRI-0239.nii.gz\n",
      "26 .   LIDC-IDRI-0253.nii.gz\n",
      "27 .   LIDC-IDRI-0261.nii.gz\n",
      "28 .   LIDC-IDRI-0266.nii.gz\n",
      "29 .   LIDC-IDRI-0279.nii.gz\n",
      "30 .   LIDC-IDRI-0280.nii.gz\n",
      "31 .   LIDC-IDRI-0288.nii.gz\n",
      "32 .   LIDC-IDRI-0293.nii.gz\n",
      "33 .   LIDC-IDRI-0295.nii.gz\n",
      "34 .   LIDC-IDRI-0306.nii.gz\n",
      "35 .   LIDC-IDRI-0307.nii.gz\n",
      "36 .   LIDC-IDRI-0316.nii.gz\n",
      "37 .   LIDC-IDRI-0322.nii.gz\n",
      "38 .   LIDC-IDRI-0327.nii.gz\n",
      "39 .   LIDC-IDRI-0330.nii.gz\n",
      "40 .   LIDC-IDRI-0331.nii.gz\n",
      "41 .   LIDC-IDRI-0333.nii.gz\n",
      "42 .   LIDC-IDRI-0336.nii.gz\n",
      "43 .   LIDC-IDRI-0342.nii.gz\n",
      "44 .   LIDC-IDRI-0349.nii.gz\n",
      "45 .   LIDC-IDRI-0361.nii.gz\n",
      "46 .   LIDC-IDRI-0364.nii.gz\n",
      "47 .   LIDC-IDRI-0365.nii.gz\n",
      "48 .   LIDC-IDRI-0382.nii.gz\n",
      "49 .   LIDC-IDRI-0383.nii.gz\n",
      "50 .   LIDC-IDRI-0389.nii.gz\n",
      "51 .   LIDC-IDRI-0391.nii.gz\n",
      "52 .   LIDC-IDRI-0399.nii.gz\n",
      "53 .   LIDC-IDRI-0401.nii.gz\n",
      "54 .   LIDC-IDRI-0405.nii.gz\n",
      "55 .   LIDC-IDRI-0410.nii.gz\n",
      "56 .   LIDC-IDRI-0412.nii.gz\n",
      "57 .   LIDC-IDRI-0417.nii.gz\n",
      "58 .   LIDC-IDRI-0418.nii.gz\n",
      "59 .   LIDC-IDRI-0422.nii.gz\n",
      "60 .   LIDC-IDRI-0425.nii.gz\n",
      "61 .   LIDC-IDRI-0428.nii.gz\n",
      "62 .   LIDC-IDRI-0441.nii.gz\n",
      "63 .   LIDC-IDRI-0446.nii.gz\n",
      "64 .   LIDC-IDRI-0455.nii.gz\n",
      "65 .   LIDC-IDRI-0465.nii.gz\n",
      "66 .   LIDC-IDRI-0472.nii.gz\n",
      "67 .   LIDC-IDRI-0482.nii.gz\n",
      "68 .   LIDC-IDRI-0490.nii.gz\n",
      "69 .   LIDC-IDRI-0506.nii.gz\n",
      "70 .   LIDC-IDRI-0508.nii.gz\n",
      "71 .   LIDC-IDRI-0511.nii.gz\n",
      "72 .   LIDC-IDRI-0512.nii.gz\n",
      "73 .   LIDC-IDRI-0513.nii.gz\n",
      "74 .   LIDC-IDRI-0514.nii.gz\n",
      "75 .   LIDC-IDRI-0519.nii.gz\n",
      "76 .   LIDC-IDRI-0528.nii.gz\n",
      "77 .   LIDC-IDRI-0531.nii.gz\n",
      "78 .   LIDC-IDRI-0536.nii.gz\n",
      "79 .   LIDC-IDRI-0540.nii.gz\n",
      "80 .   LIDC-IDRI-0544.nii.gz\n",
      "81 .   LIDC-IDRI-0548.nii.gz\n",
      "82 .   LIDC-IDRI-0561.nii.gz\n",
      "83 .   LIDC-IDRI-0564.nii.gz\n",
      "84 .   LIDC-IDRI-0567.nii.gz\n",
      "85 .   LIDC-IDRI-0571.nii.gz\n",
      "86 .   LIDC-IDRI-0572.nii.gz\n",
      "87 .   LIDC-IDRI-0573.nii.gz\n",
      "88 .   LIDC-IDRI-0576.nii.gz\n",
      "89 .   LIDC-IDRI-0589.nii.gz\n",
      "90 .   LIDC-IDRI-0600.nii.gz\n",
      "91 .   LIDC-IDRI-0603.nii.gz\n",
      "92 .   LIDC-IDRI-0610.nii.gz\n",
      "93 .   LIDC-IDRI-0612.nii.gz\n",
      "94 .   LIDC-IDRI-0616.nii.gz\n",
      "95 .   LIDC-IDRI-0617.nii.gz\n",
      "96 .   LIDC-IDRI-0622.nii.gz\n",
      "97 .   LIDC-IDRI-0623.nii.gz\n",
      "98 .   LIDC-IDRI-0627.nii.gz\n",
      "99 .   LIDC-IDRI-0632.nii.gz\n",
      "100 .   LIDC-IDRI-0646.nii.gz\n",
      "101 .   LIDC-IDRI-0651.nii.gz\n",
      "102 .   LIDC-IDRI-0652.nii.gz\n",
      "103 .   LIDC-IDRI-0653.nii.gz\n",
      "104 .   LIDC-IDRI-0665.nii.gz\n",
      "105 .   LIDC-IDRI-0666.nii.gz\n",
      "106 .   LIDC-IDRI-0667.nii.gz\n",
      "107 .   LIDC-IDRI-0668.nii.gz\n",
      "108 .   LIDC-IDRI-0669.nii.gz\n",
      "109 .   LIDC-IDRI-0679.nii.gz\n",
      "110 .   LIDC-IDRI-0683.nii.gz\n",
      "111 .   LIDC-IDRI-0685.nii.gz\n",
      "112 .   LIDC-IDRI-0689.nii.gz\n",
      "113 .   LIDC-IDRI-0690.nii.gz\n",
      "114 .   LIDC-IDRI-0691.nii.gz\n",
      "115 .   LIDC-IDRI-0700.nii.gz\n",
      "116 .   LIDC-IDRI-0710.nii.gz\n",
      "117 .   LIDC-IDRI-0711.nii.gz\n",
      "118 .   LIDC-IDRI-0715.nii.gz\n",
      "119 .   LIDC-IDRI-0716.nii.gz\n",
      "120 .   LIDC-IDRI-0718.nii.gz\n",
      "121 .   LIDC-IDRI-0731.nii.gz\n",
      "122 .   LIDC-IDRI-0735.nii.gz\n",
      "123 .   LIDC-IDRI-0737.nii.gz\n",
      "124 .   LIDC-IDRI-0738.nii.gz\n",
      "125 .   LIDC-IDRI-0745.nii.gz\n",
      "126 .   LIDC-IDRI-0746.nii.gz\n",
      "127 .   LIDC-IDRI-0755.nii.gz\n",
      "128 .   LIDC-IDRI-0760.nii.gz\n",
      "129 .   LIDC-IDRI-0764.nii.gz\n",
      "130 .   LIDC-IDRI-0774.nii.gz\n",
      "131 .   LIDC-IDRI-0784.nii.gz\n",
      "132 .   LIDC-IDRI-0804.nii.gz\n",
      "133 .   LIDC-IDRI-0808.nii.gz\n",
      "134 .   LIDC-IDRI-0815.nii.gz\n",
      "135 .   LIDC-IDRI-0818.nii.gz\n",
      "136 .   LIDC-IDRI-0839.nii.gz\n",
      "137 .   LIDC-IDRI-0853.nii.gz\n",
      "138 .   LIDC-IDRI-0862.nii.gz\n",
      "139 .   LIDC-IDRI-0875.nii.gz\n",
      "140 .   LIDC-IDRI-0876.nii.gz\n",
      "141 .   LIDC-IDRI-0877.nii.gz\n",
      "142 .   LIDC-IDRI-0878.nii.gz\n",
      "143 .   LIDC-IDRI-0881.nii.gz\n",
      "144 .   LIDC-IDRI-0885.nii.gz\n",
      "145 .   LIDC-IDRI-0887.nii.gz\n",
      "146 .   LIDC-IDRI-0889.nii.gz\n",
      "147 .   LIDC-IDRI-0891.nii.gz\n",
      "148 .   LIDC-IDRI-0897.nii.gz\n",
      "149 .   LIDC-IDRI-0898.nii.gz\n",
      "150 .   LIDC-IDRI-0900.nii.gz\n",
      "151 .   LIDC-IDRI-0901.nii.gz\n",
      "152 .   LIDC-IDRI-0903.nii.gz\n",
      "153 .   LIDC-IDRI-0906.nii.gz\n",
      "154 .   LIDC-IDRI-0918.nii.gz\n",
      "155 .   LIDC-IDRI-0927.nii.gz\n",
      "156 .   LIDC-IDRI-0930.nii.gz\n",
      "157 .   LIDC-IDRI-0931.nii.gz\n",
      "158 .   LIDC-IDRI-0934.nii.gz\n",
      "159 .   LIDC-IDRI-0937.nii.gz\n",
      "160 .   LIDC-IDRI-0942.nii.gz\n",
      "161 .   LIDC-IDRI-0948.nii.gz\n",
      "162 .   LIDC-IDRI-0952.nii.gz\n",
      "163 .   LIDC-IDRI-0954.nii.gz\n",
      "164 .   LIDC-IDRI-0960.nii.gz\n",
      "165 .   LIDC-IDRI-0964.nii.gz\n",
      "166 .   LIDC-IDRI-0967.nii.gz\n",
      "167 .   LIDC-IDRI-0970.nii.gz\n",
      "168 .   LIDC-IDRI-0975.nii.gz\n",
      "169 .   LIDC-IDRI-0979.nii.gz\n",
      "170 .   LIDC-IDRI-0988.nii.gz\n",
      "171 .   LIDC-IDRI-0989.nii.gz\n",
      "172 .   LIDC-IDRI-0992.nii.gz\n",
      "173 .   LIDC-IDRI-0995.nii.gz\n",
      "174 .   LIDC-IDRI-0996.nii.gz\n",
      "175 .   LIDC-IDRI-1010.nii.gz\n"
     ]
    }
   ],
   "source": [
    "from shutil import copy\n",
    "path_s = 'C:/Users/MSalehjahromi/Desktop/Old_ICON_LIDC_Codes/LIDC_IDRI/manifest-1600709154662/NIFTI_Input'\n",
    "path_d = 'U:/Mori/LIDC'\n",
    "\n",
    "count = 0\n",
    "for case in os.listdir(path_s):\n",
    "    if case not in os.listdir(path_d):\n",
    "        print(count,'.  ', case)\n",
    "        copy( os.path.join(path_s,case)   , path_d)\n",
    "        count += 1"
   ]
  },
  {
   "cell_type": "code",
   "execution_count": 44,
   "id": "20480d99",
   "metadata": {},
   "outputs": [
    {
     "name": "stdout",
     "output_type": "stream",
     "text": [
      "0 .   LIDC-IDRI-1012.nii.gz\n"
     ]
    },
    {
     "ename": "FileNotFoundError",
     "evalue": "[Errno 2] No such file or directory: 'C:/Users/MSalehjahromi/Desktop/CT_PET_Segs\\\\activecontourr.asv\\\\Seg_tumor_PET.nii'",
     "output_type": "error",
     "traceback": [
      "\u001b[1;31m---------------------------------------------------------------------------\u001b[0m",
      "\u001b[1;31mFileNotFoundError\u001b[0m                         Traceback (most recent call last)",
      "\u001b[1;32mC:\\Users\\MSALEH~1\\ONEDRI~1.ORG\\DOCUME~1\\MOBAXT~1\\slash\\tmp/ipykernel_55696/1249775630.py\u001b[0m in \u001b[0;36m<module>\u001b[1;34m\u001b[0m\n\u001b[0;32m     10\u001b[0m     \u001b[0mdes\u001b[0m \u001b[1;33m=\u001b[0m \u001b[0mos\u001b[0m\u001b[1;33m.\u001b[0m\u001b[0mpath\u001b[0m\u001b[1;33m.\u001b[0m\u001b[0mjoin\u001b[0m\u001b[1;33m(\u001b[0m\u001b[0mpath_d\u001b[0m\u001b[1;33m,\u001b[0m \u001b[0mfolder\u001b[0m\u001b[1;33m)\u001b[0m\u001b[1;33m\u001b[0m\u001b[1;33m\u001b[0m\u001b[0m\n\u001b[0;32m     11\u001b[0m \u001b[1;33m\u001b[0m\u001b[0m\n\u001b[1;32m---> 12\u001b[1;33m     \u001b[0mcopy\u001b[0m\u001b[1;33m(\u001b[0m \u001b[0mfile_source\u001b[0m  \u001b[1;33m,\u001b[0m \u001b[0mdes\u001b[0m\u001b[1;33m)\u001b[0m\u001b[1;33m\u001b[0m\u001b[1;33m\u001b[0m\u001b[0m\n\u001b[0m\u001b[0;32m     13\u001b[0m     \u001b[0mcount\u001b[0m \u001b[1;33m+=\u001b[0m \u001b[1;36m1\u001b[0m\u001b[1;33m\u001b[0m\u001b[1;33m\u001b[0m\u001b[0m\n",
      "\u001b[1;32m~\\Programs\\Anaconda3\\lib\\shutil.py\u001b[0m in \u001b[0;36mcopy\u001b[1;34m(src, dst, follow_symlinks)\u001b[0m\n\u001b[0;32m    416\u001b[0m     \u001b[1;32mif\u001b[0m \u001b[0mos\u001b[0m\u001b[1;33m.\u001b[0m\u001b[0mpath\u001b[0m\u001b[1;33m.\u001b[0m\u001b[0misdir\u001b[0m\u001b[1;33m(\u001b[0m\u001b[0mdst\u001b[0m\u001b[1;33m)\u001b[0m\u001b[1;33m:\u001b[0m\u001b[1;33m\u001b[0m\u001b[1;33m\u001b[0m\u001b[0m\n\u001b[0;32m    417\u001b[0m         \u001b[0mdst\u001b[0m \u001b[1;33m=\u001b[0m \u001b[0mos\u001b[0m\u001b[1;33m.\u001b[0m\u001b[0mpath\u001b[0m\u001b[1;33m.\u001b[0m\u001b[0mjoin\u001b[0m\u001b[1;33m(\u001b[0m\u001b[0mdst\u001b[0m\u001b[1;33m,\u001b[0m \u001b[0mos\u001b[0m\u001b[1;33m.\u001b[0m\u001b[0mpath\u001b[0m\u001b[1;33m.\u001b[0m\u001b[0mbasename\u001b[0m\u001b[1;33m(\u001b[0m\u001b[0msrc\u001b[0m\u001b[1;33m)\u001b[0m\u001b[1;33m)\u001b[0m\u001b[1;33m\u001b[0m\u001b[1;33m\u001b[0m\u001b[0m\n\u001b[1;32m--> 418\u001b[1;33m     \u001b[0mcopyfile\u001b[0m\u001b[1;33m(\u001b[0m\u001b[0msrc\u001b[0m\u001b[1;33m,\u001b[0m \u001b[0mdst\u001b[0m\u001b[1;33m,\u001b[0m \u001b[0mfollow_symlinks\u001b[0m\u001b[1;33m=\u001b[0m\u001b[0mfollow_symlinks\u001b[0m\u001b[1;33m)\u001b[0m\u001b[1;33m\u001b[0m\u001b[1;33m\u001b[0m\u001b[0m\n\u001b[0m\u001b[0;32m    419\u001b[0m     \u001b[0mcopymode\u001b[0m\u001b[1;33m(\u001b[0m\u001b[0msrc\u001b[0m\u001b[1;33m,\u001b[0m \u001b[0mdst\u001b[0m\u001b[1;33m,\u001b[0m \u001b[0mfollow_symlinks\u001b[0m\u001b[1;33m=\u001b[0m\u001b[0mfollow_symlinks\u001b[0m\u001b[1;33m)\u001b[0m\u001b[1;33m\u001b[0m\u001b[1;33m\u001b[0m\u001b[0m\n\u001b[0;32m    420\u001b[0m     \u001b[1;32mreturn\u001b[0m \u001b[0mdst\u001b[0m\u001b[1;33m\u001b[0m\u001b[1;33m\u001b[0m\u001b[0m\n",
      "\u001b[1;32m~\\Programs\\Anaconda3\\lib\\shutil.py\u001b[0m in \u001b[0;36mcopyfile\u001b[1;34m(src, dst, follow_symlinks)\u001b[0m\n\u001b[0;32m    262\u001b[0m         \u001b[0mos\u001b[0m\u001b[1;33m.\u001b[0m\u001b[0msymlink\u001b[0m\u001b[1;33m(\u001b[0m\u001b[0mos\u001b[0m\u001b[1;33m.\u001b[0m\u001b[0mreadlink\u001b[0m\u001b[1;33m(\u001b[0m\u001b[0msrc\u001b[0m\u001b[1;33m)\u001b[0m\u001b[1;33m,\u001b[0m \u001b[0mdst\u001b[0m\u001b[1;33m)\u001b[0m\u001b[1;33m\u001b[0m\u001b[1;33m\u001b[0m\u001b[0m\n\u001b[0;32m    263\u001b[0m     \u001b[1;32melse\u001b[0m\u001b[1;33m:\u001b[0m\u001b[1;33m\u001b[0m\u001b[1;33m\u001b[0m\u001b[0m\n\u001b[1;32m--> 264\u001b[1;33m         \u001b[1;32mwith\u001b[0m \u001b[0mopen\u001b[0m\u001b[1;33m(\u001b[0m\u001b[0msrc\u001b[0m\u001b[1;33m,\u001b[0m \u001b[1;34m'rb'\u001b[0m\u001b[1;33m)\u001b[0m \u001b[1;32mas\u001b[0m \u001b[0mfsrc\u001b[0m\u001b[1;33m,\u001b[0m \u001b[0mopen\u001b[0m\u001b[1;33m(\u001b[0m\u001b[0mdst\u001b[0m\u001b[1;33m,\u001b[0m \u001b[1;34m'wb'\u001b[0m\u001b[1;33m)\u001b[0m \u001b[1;32mas\u001b[0m \u001b[0mfdst\u001b[0m\u001b[1;33m:\u001b[0m\u001b[1;33m\u001b[0m\u001b[1;33m\u001b[0m\u001b[0m\n\u001b[0m\u001b[0;32m    265\u001b[0m             \u001b[1;31m# macOS\u001b[0m\u001b[1;33m\u001b[0m\u001b[1;33m\u001b[0m\u001b[1;33m\u001b[0m\u001b[0m\n\u001b[0;32m    266\u001b[0m             \u001b[1;32mif\u001b[0m \u001b[0m_HAS_FCOPYFILE\u001b[0m\u001b[1;33m:\u001b[0m\u001b[1;33m\u001b[0m\u001b[1;33m\u001b[0m\u001b[0m\n",
      "\u001b[1;31mFileNotFoundError\u001b[0m: [Errno 2] No such file or directory: 'C:/Users/MSalehjahromi/Desktop/CT_PET_Segs\\\\activecontourr.asv\\\\Seg_tumor_PET.nii'"
     ]
    }
   ],
   "source": [
    "from shutil import copy\n",
    "path_s = 'C:/Users/MSalehjahromi/Desktop/CT_PET_Segs'\n",
    "path_d = 'E:/data/TCIA/CT_PET_Segs'\n",
    "\n",
    "count = 0\n",
    "for folder in os.listdir(path_s):\n",
    "    if os.path.isdir(folder)\n",
    "        print(count,'.  ', case)\n",
    "\n",
    "        file_source = os.path.join(path_s, folder,'Seg_tumor_PET.nii')\n",
    "        des = os.path.join(path_d, folder)\n",
    "\n",
    "        copy( file_source  , des)\n",
    "        count += 1"
   ]
  },
  {
   "cell_type": "code",
   "execution_count": null,
   "id": "7735c11e",
   "metadata": {},
   "outputs": [],
   "source": []
  }
 ],
 "metadata": {
  "kernelspec": {
   "display_name": "Python 3 (ipykernel)",
   "language": "python",
   "name": "python3"
  },
  "language_info": {
   "codemirror_mode": {
    "name": "ipython",
    "version": 3
   },
   "file_extension": ".py",
   "mimetype": "text/x-python",
   "name": "python",
   "nbconvert_exporter": "python",
   "pygments_lexer": "ipython3",
   "version": "3.8.11"
  }
 },
 "nbformat": 4,
 "nbformat_minor": 5
}
